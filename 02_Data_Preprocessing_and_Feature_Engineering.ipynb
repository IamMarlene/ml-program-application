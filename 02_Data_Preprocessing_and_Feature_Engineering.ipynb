{
  "nbformat": 4,
  "nbformat_minor": 0,
  "metadata": {
    "colab": {
      "provenance": []
    },
    "kernelspec": {
      "name": "python3",
      "display_name": "Python 3"
    },
    "language_info": {
      "name": "python"
    }
  },
  "cells": [
    {
      "cell_type": "markdown",
      "source": [
        "# Tech-Moms Application Data\n",
        "This notebook performs data preprocessing and feature engineering to prepare the Tech-Moms application dataset for modeling."
      ],
      "metadata": {
        "id": "ZTVvByRFvbAI"
      }
    },
    {
      "cell_type": "code",
      "execution_count": 1,
      "metadata": {
        "id": "4d194ttDaqLe"
      },
      "outputs": [],
      "source": [
        "import pandas as pd\n",
        "import numpy as np\n",
        "import matplotlib.pyplot as plt\n",
        "import seaborn as sns\n",
        "from datetime import datetime\n",
        "import re"
      ]
    },
    {
      "cell_type": "code",
      "source": [
        "# Set the style for our visualizations\n",
        "plt.style.use('seaborn-v0_8-whitegrid')  # Use seaborn's whitegrid style for cleaner visualizations\n",
        "sns.set_palette(\"viridis\")  # Use viridis color palette for better accessibility and aesthetics\n",
        "plt.rcParams['figure.figsize'] = (14, 8)  # Set default figure size for better readability"
      ],
      "metadata": {
        "id": "ESvZaDj41v5Q"
      },
      "execution_count": 2,
      "outputs": []
    },
    {
      "cell_type": "markdown",
      "source": [
        "# 1. Load and Prepare the Data"
      ],
      "metadata": {
        "id": "XvCfv0am174Q"
      }
    },
    {
      "cell_type": "code",
      "source": [
        "print(\"1. Loading and Preparing the Data\")\n",
        "print(\"---------------------------------\")\n",
        "\n",
        "# Load the cleaned data from the EDA notebook\n",
        "df = pd.read_csv('tech_moms_eda_cleaned.csv')\n",
        "\n",
        "print(\"Successfully loaded cleaned data from the EDA notebook\")"
      ],
      "metadata": {
        "colab": {
          "base_uri": "https://localhost:8080/",
          "height": 0
        },
        "id": "Bj6ANYTO2Dog",
        "outputId": "64821790-89f4-494a-c2db-1bb8d2b1a5c8"
      },
      "execution_count": 3,
      "outputs": [
        {
          "output_type": "stream",
          "name": "stdout",
          "text": [
            "1. Loading and Preparing the Data\n",
            "---------------------------------\n",
            "Successfully loaded cleaned data from the EDA notebook\n"
          ]
        }
      ]
    },
    {
      "cell_type": "code",
      "source": [
        "# Convert 'create_date' to datetime format\n",
        "df['create_date'] = pd.to_datetime(df['create_date'], errors='coerce')"
      ],
      "metadata": {
        "id": "wD3FJVbs2oos"
      },
      "execution_count": 4,
      "outputs": []
    },
    {
      "cell_type": "code",
      "source": [
        "# Extract date components for time-based analysis\n",
        "df['year'] = df['create_date'].dt.year\n",
        "df['month'] = df['create_date'].dt.month\n",
        "df['day'] = df['create_date'].dt.day\n",
        "df['weekday'] = df['create_date'].dt.weekday"
      ],
      "metadata": {
        "id": "wRQHO0Pt2rXk"
      },
      "execution_count": 5,
      "outputs": []
    },
    {
      "cell_type": "code",
      "source": [
        "# Replace empty strings with NaN for consistency in missing value handling\n",
        "df = df.replace('', np.nan)"
      ],
      "metadata": {
        "id": "0JftBbUg2sQU"
      },
      "execution_count": 6,
      "outputs": []
    },
    {
      "cell_type": "code",
      "source": [
        "# Display the first few rows of the prepared data\n",
        "print(\"\\nFirst few rows of the prepared dataset:\")\n",
        "df.head()"
      ],
      "metadata": {
        "colab": {
          "base_uri": "https://localhost:8080/",
          "height": 366
        },
        "id": "pdxeHR252wFk",
        "outputId": "0fb1aed4-a862-4504-e648-894fce5568dd"
      },
      "execution_count": 7,
      "outputs": [
        {
          "output_type": "stream",
          "name": "stdout",
          "text": [
            "\n",
            "First few rows of the prepared dataset:\n"
          ]
        },
        {
          "output_type": "execute_result",
          "data": {
            "text/plain": [
              "   contact_id            cohort    applicant_status  children  \\\n",
              "0           1         Dead Lead  Declined Attending       3.0   \n",
              "1           2         Dead Lead           Dead lead       2.0   \n",
              "2           3         Dead Lead  Declined Attending       3.0   \n",
              "3           4  2020 Fall - Lehi     Assigned Cohort       1.0   \n",
              "4           5         Dead Lead           Dead lead       NaN   \n",
              "\n",
              "   computer_availability                         employment_status  \\\n",
              "0  I do not own a laptop                                       NaN   \n",
              "1           Laptop (Mac)              Employed full-time (35 hrs+)   \n",
              "2            Laptop (PC)  Employed almost full-time (up to 35 hrs)   \n",
              "3            Laptop (PC)              Employed full-time (35 hrs+)   \n",
              "4            Laptop (PC)                                       NaN   \n",
              "\n",
              "  salary_range relationship_and_marital_status household_income  \\\n",
              "0          NaN                         Married      $50k - $75k   \n",
              "1    $25K-$35K                          Single      $25k - $35k   \n",
              "2    $15K-$25K                         Married    $100k - $150k   \n",
              "3    $25K-$35K                         Married      $50k - $75k   \n",
              "4          NaN            Domestic Partnership            <$15k   \n",
              "\n",
              "     education_level lgbtqi_identity veteran_status      race_ethnicity  \\\n",
              "0  Bachelor's Degree             NaN            NaN               White   \n",
              "1  Bachelor's Degree             NaN            NaN               White   \n",
              "2  Bachelor's Degree             NaN            NaN               White   \n",
              "3  Associates Degree             NaN            NaN  Hispanic or Latina   \n",
              "4  Bachelor's Degree             NaN            NaN               White   \n",
              "\n",
              "          create_date  year ethnicity_simplified  month  weekday  day  \n",
              "0 2020-11-25 09:20:00  2020                White     11        2   25  \n",
              "1 2020-11-25 09:20:00  2020                White     11        2   25  \n",
              "2 2020-11-25 09:20:00  2020                White     11        2   25  \n",
              "3 2020-11-25 09:20:00  2020   Hispanic or Latina     11        2   25  \n",
              "4 2020-11-25 09:20:00  2020                White     11        2   25  "
            ],
            "text/html": [
              "\n",
              "  <div id=\"df-2f19e692-7ff9-4749-bf96-8f95cc75b85e\" class=\"colab-df-container\">\n",
              "    <div>\n",
              "<style scoped>\n",
              "    .dataframe tbody tr th:only-of-type {\n",
              "        vertical-align: middle;\n",
              "    }\n",
              "\n",
              "    .dataframe tbody tr th {\n",
              "        vertical-align: top;\n",
              "    }\n",
              "\n",
              "    .dataframe thead th {\n",
              "        text-align: right;\n",
              "    }\n",
              "</style>\n",
              "<table border=\"1\" class=\"dataframe\">\n",
              "  <thead>\n",
              "    <tr style=\"text-align: right;\">\n",
              "      <th></th>\n",
              "      <th>contact_id</th>\n",
              "      <th>cohort</th>\n",
              "      <th>applicant_status</th>\n",
              "      <th>children</th>\n",
              "      <th>computer_availability</th>\n",
              "      <th>employment_status</th>\n",
              "      <th>salary_range</th>\n",
              "      <th>relationship_and_marital_status</th>\n",
              "      <th>household_income</th>\n",
              "      <th>education_level</th>\n",
              "      <th>lgbtqi_identity</th>\n",
              "      <th>veteran_status</th>\n",
              "      <th>race_ethnicity</th>\n",
              "      <th>create_date</th>\n",
              "      <th>year</th>\n",
              "      <th>ethnicity_simplified</th>\n",
              "      <th>month</th>\n",
              "      <th>weekday</th>\n",
              "      <th>day</th>\n",
              "    </tr>\n",
              "  </thead>\n",
              "  <tbody>\n",
              "    <tr>\n",
              "      <th>0</th>\n",
              "      <td>1</td>\n",
              "      <td>Dead Lead</td>\n",
              "      <td>Declined Attending</td>\n",
              "      <td>3.0</td>\n",
              "      <td>I do not own a laptop</td>\n",
              "      <td>NaN</td>\n",
              "      <td>NaN</td>\n",
              "      <td>Married</td>\n",
              "      <td>$50k - $75k</td>\n",
              "      <td>Bachelor's Degree</td>\n",
              "      <td>NaN</td>\n",
              "      <td>NaN</td>\n",
              "      <td>White</td>\n",
              "      <td>2020-11-25 09:20:00</td>\n",
              "      <td>2020</td>\n",
              "      <td>White</td>\n",
              "      <td>11</td>\n",
              "      <td>2</td>\n",
              "      <td>25</td>\n",
              "    </tr>\n",
              "    <tr>\n",
              "      <th>1</th>\n",
              "      <td>2</td>\n",
              "      <td>Dead Lead</td>\n",
              "      <td>Dead lead</td>\n",
              "      <td>2.0</td>\n",
              "      <td>Laptop (Mac)</td>\n",
              "      <td>Employed full-time (35 hrs+)</td>\n",
              "      <td>$25K-$35K</td>\n",
              "      <td>Single</td>\n",
              "      <td>$25k - $35k</td>\n",
              "      <td>Bachelor's Degree</td>\n",
              "      <td>NaN</td>\n",
              "      <td>NaN</td>\n",
              "      <td>White</td>\n",
              "      <td>2020-11-25 09:20:00</td>\n",
              "      <td>2020</td>\n",
              "      <td>White</td>\n",
              "      <td>11</td>\n",
              "      <td>2</td>\n",
              "      <td>25</td>\n",
              "    </tr>\n",
              "    <tr>\n",
              "      <th>2</th>\n",
              "      <td>3</td>\n",
              "      <td>Dead Lead</td>\n",
              "      <td>Declined Attending</td>\n",
              "      <td>3.0</td>\n",
              "      <td>Laptop (PC)</td>\n",
              "      <td>Employed almost full-time (up to 35 hrs)</td>\n",
              "      <td>$15K-$25K</td>\n",
              "      <td>Married</td>\n",
              "      <td>$100k - $150k</td>\n",
              "      <td>Bachelor's Degree</td>\n",
              "      <td>NaN</td>\n",
              "      <td>NaN</td>\n",
              "      <td>White</td>\n",
              "      <td>2020-11-25 09:20:00</td>\n",
              "      <td>2020</td>\n",
              "      <td>White</td>\n",
              "      <td>11</td>\n",
              "      <td>2</td>\n",
              "      <td>25</td>\n",
              "    </tr>\n",
              "    <tr>\n",
              "      <th>3</th>\n",
              "      <td>4</td>\n",
              "      <td>2020 Fall - Lehi</td>\n",
              "      <td>Assigned Cohort</td>\n",
              "      <td>1.0</td>\n",
              "      <td>Laptop (PC)</td>\n",
              "      <td>Employed full-time (35 hrs+)</td>\n",
              "      <td>$25K-$35K</td>\n",
              "      <td>Married</td>\n",
              "      <td>$50k - $75k</td>\n",
              "      <td>Associates Degree</td>\n",
              "      <td>NaN</td>\n",
              "      <td>NaN</td>\n",
              "      <td>Hispanic or Latina</td>\n",
              "      <td>2020-11-25 09:20:00</td>\n",
              "      <td>2020</td>\n",
              "      <td>Hispanic or Latina</td>\n",
              "      <td>11</td>\n",
              "      <td>2</td>\n",
              "      <td>25</td>\n",
              "    </tr>\n",
              "    <tr>\n",
              "      <th>4</th>\n",
              "      <td>5</td>\n",
              "      <td>Dead Lead</td>\n",
              "      <td>Dead lead</td>\n",
              "      <td>NaN</td>\n",
              "      <td>Laptop (PC)</td>\n",
              "      <td>NaN</td>\n",
              "      <td>NaN</td>\n",
              "      <td>Domestic Partnership</td>\n",
              "      <td>&lt;$15k</td>\n",
              "      <td>Bachelor's Degree</td>\n",
              "      <td>NaN</td>\n",
              "      <td>NaN</td>\n",
              "      <td>White</td>\n",
              "      <td>2020-11-25 09:20:00</td>\n",
              "      <td>2020</td>\n",
              "      <td>White</td>\n",
              "      <td>11</td>\n",
              "      <td>2</td>\n",
              "      <td>25</td>\n",
              "    </tr>\n",
              "  </tbody>\n",
              "</table>\n",
              "</div>\n",
              "    <div class=\"colab-df-buttons\">\n",
              "\n",
              "  <div class=\"colab-df-container\">\n",
              "    <button class=\"colab-df-convert\" onclick=\"convertToInteractive('df-2f19e692-7ff9-4749-bf96-8f95cc75b85e')\"\n",
              "            title=\"Convert this dataframe to an interactive table.\"\n",
              "            style=\"display:none;\">\n",
              "\n",
              "  <svg xmlns=\"http://www.w3.org/2000/svg\" height=\"24px\" viewBox=\"0 -960 960 960\">\n",
              "    <path d=\"M120-120v-720h720v720H120Zm60-500h600v-160H180v160Zm220 220h160v-160H400v160Zm0 220h160v-160H400v160ZM180-400h160v-160H180v160Zm440 0h160v-160H620v160ZM180-180h160v-160H180v160Zm440 0h160v-160H620v160Z\"/>\n",
              "  </svg>\n",
              "    </button>\n",
              "\n",
              "  <style>\n",
              "    .colab-df-container {\n",
              "      display:flex;\n",
              "      gap: 12px;\n",
              "    }\n",
              "\n",
              "    .colab-df-convert {\n",
              "      background-color: #E8F0FE;\n",
              "      border: none;\n",
              "      border-radius: 50%;\n",
              "      cursor: pointer;\n",
              "      display: none;\n",
              "      fill: #1967D2;\n",
              "      height: 32px;\n",
              "      padding: 0 0 0 0;\n",
              "      width: 32px;\n",
              "    }\n",
              "\n",
              "    .colab-df-convert:hover {\n",
              "      background-color: #E2EBFA;\n",
              "      box-shadow: 0px 1px 2px rgba(60, 64, 67, 0.3), 0px 1px 3px 1px rgba(60, 64, 67, 0.15);\n",
              "      fill: #174EA6;\n",
              "    }\n",
              "\n",
              "    .colab-df-buttons div {\n",
              "      margin-bottom: 4px;\n",
              "    }\n",
              "\n",
              "    [theme=dark] .colab-df-convert {\n",
              "      background-color: #3B4455;\n",
              "      fill: #D2E3FC;\n",
              "    }\n",
              "\n",
              "    [theme=dark] .colab-df-convert:hover {\n",
              "      background-color: #434B5C;\n",
              "      box-shadow: 0px 1px 3px 1px rgba(0, 0, 0, 0.15);\n",
              "      filter: drop-shadow(0px 1px 2px rgba(0, 0, 0, 0.3));\n",
              "      fill: #FFFFFF;\n",
              "    }\n",
              "  </style>\n",
              "\n",
              "    <script>\n",
              "      const buttonEl =\n",
              "        document.querySelector('#df-2f19e692-7ff9-4749-bf96-8f95cc75b85e button.colab-df-convert');\n",
              "      buttonEl.style.display =\n",
              "        google.colab.kernel.accessAllowed ? 'block' : 'none';\n",
              "\n",
              "      async function convertToInteractive(key) {\n",
              "        const element = document.querySelector('#df-2f19e692-7ff9-4749-bf96-8f95cc75b85e');\n",
              "        const dataTable =\n",
              "          await google.colab.kernel.invokeFunction('convertToInteractive',\n",
              "                                                    [key], {});\n",
              "        if (!dataTable) return;\n",
              "\n",
              "        const docLinkHtml = 'Like what you see? Visit the ' +\n",
              "          '<a target=\"_blank\" href=https://colab.research.google.com/notebooks/data_table.ipynb>data table notebook</a>'\n",
              "          + ' to learn more about interactive tables.';\n",
              "        element.innerHTML = '';\n",
              "        dataTable['output_type'] = 'display_data';\n",
              "        await google.colab.output.renderOutput(dataTable, element);\n",
              "        const docLink = document.createElement('div');\n",
              "        docLink.innerHTML = docLinkHtml;\n",
              "        element.appendChild(docLink);\n",
              "      }\n",
              "    </script>\n",
              "  </div>\n",
              "\n",
              "\n",
              "    <div id=\"df-9c8d1d98-5dc9-44e2-b850-db86a6872746\">\n",
              "      <button class=\"colab-df-quickchart\" onclick=\"quickchart('df-9c8d1d98-5dc9-44e2-b850-db86a6872746')\"\n",
              "                title=\"Suggest charts\"\n",
              "                style=\"display:none;\">\n",
              "\n",
              "<svg xmlns=\"http://www.w3.org/2000/svg\" height=\"24px\"viewBox=\"0 0 24 24\"\n",
              "     width=\"24px\">\n",
              "    <g>\n",
              "        <path d=\"M19 3H5c-1.1 0-2 .9-2 2v14c0 1.1.9 2 2 2h14c1.1 0 2-.9 2-2V5c0-1.1-.9-2-2-2zM9 17H7v-7h2v7zm4 0h-2V7h2v10zm4 0h-2v-4h2v4z\"/>\n",
              "    </g>\n",
              "</svg>\n",
              "      </button>\n",
              "\n",
              "<style>\n",
              "  .colab-df-quickchart {\n",
              "      --bg-color: #E8F0FE;\n",
              "      --fill-color: #1967D2;\n",
              "      --hover-bg-color: #E2EBFA;\n",
              "      --hover-fill-color: #174EA6;\n",
              "      --disabled-fill-color: #AAA;\n",
              "      --disabled-bg-color: #DDD;\n",
              "  }\n",
              "\n",
              "  [theme=dark] .colab-df-quickchart {\n",
              "      --bg-color: #3B4455;\n",
              "      --fill-color: #D2E3FC;\n",
              "      --hover-bg-color: #434B5C;\n",
              "      --hover-fill-color: #FFFFFF;\n",
              "      --disabled-bg-color: #3B4455;\n",
              "      --disabled-fill-color: #666;\n",
              "  }\n",
              "\n",
              "  .colab-df-quickchart {\n",
              "    background-color: var(--bg-color);\n",
              "    border: none;\n",
              "    border-radius: 50%;\n",
              "    cursor: pointer;\n",
              "    display: none;\n",
              "    fill: var(--fill-color);\n",
              "    height: 32px;\n",
              "    padding: 0;\n",
              "    width: 32px;\n",
              "  }\n",
              "\n",
              "  .colab-df-quickchart:hover {\n",
              "    background-color: var(--hover-bg-color);\n",
              "    box-shadow: 0 1px 2px rgba(60, 64, 67, 0.3), 0 1px 3px 1px rgba(60, 64, 67, 0.15);\n",
              "    fill: var(--button-hover-fill-color);\n",
              "  }\n",
              "\n",
              "  .colab-df-quickchart-complete:disabled,\n",
              "  .colab-df-quickchart-complete:disabled:hover {\n",
              "    background-color: var(--disabled-bg-color);\n",
              "    fill: var(--disabled-fill-color);\n",
              "    box-shadow: none;\n",
              "  }\n",
              "\n",
              "  .colab-df-spinner {\n",
              "    border: 2px solid var(--fill-color);\n",
              "    border-color: transparent;\n",
              "    border-bottom-color: var(--fill-color);\n",
              "    animation:\n",
              "      spin 1s steps(1) infinite;\n",
              "  }\n",
              "\n",
              "  @keyframes spin {\n",
              "    0% {\n",
              "      border-color: transparent;\n",
              "      border-bottom-color: var(--fill-color);\n",
              "      border-left-color: var(--fill-color);\n",
              "    }\n",
              "    20% {\n",
              "      border-color: transparent;\n",
              "      border-left-color: var(--fill-color);\n",
              "      border-top-color: var(--fill-color);\n",
              "    }\n",
              "    30% {\n",
              "      border-color: transparent;\n",
              "      border-left-color: var(--fill-color);\n",
              "      border-top-color: var(--fill-color);\n",
              "      border-right-color: var(--fill-color);\n",
              "    }\n",
              "    40% {\n",
              "      border-color: transparent;\n",
              "      border-right-color: var(--fill-color);\n",
              "      border-top-color: var(--fill-color);\n",
              "    }\n",
              "    60% {\n",
              "      border-color: transparent;\n",
              "      border-right-color: var(--fill-color);\n",
              "    }\n",
              "    80% {\n",
              "      border-color: transparent;\n",
              "      border-right-color: var(--fill-color);\n",
              "      border-bottom-color: var(--fill-color);\n",
              "    }\n",
              "    90% {\n",
              "      border-color: transparent;\n",
              "      border-bottom-color: var(--fill-color);\n",
              "    }\n",
              "  }\n",
              "</style>\n",
              "\n",
              "      <script>\n",
              "        async function quickchart(key) {\n",
              "          const quickchartButtonEl =\n",
              "            document.querySelector('#' + key + ' button');\n",
              "          quickchartButtonEl.disabled = true;  // To prevent multiple clicks.\n",
              "          quickchartButtonEl.classList.add('colab-df-spinner');\n",
              "          try {\n",
              "            const charts = await google.colab.kernel.invokeFunction(\n",
              "                'suggestCharts', [key], {});\n",
              "          } catch (error) {\n",
              "            console.error('Error during call to suggestCharts:', error);\n",
              "          }\n",
              "          quickchartButtonEl.classList.remove('colab-df-spinner');\n",
              "          quickchartButtonEl.classList.add('colab-df-quickchart-complete');\n",
              "        }\n",
              "        (() => {\n",
              "          let quickchartButtonEl =\n",
              "            document.querySelector('#df-9c8d1d98-5dc9-44e2-b850-db86a6872746 button');\n",
              "          quickchartButtonEl.style.display =\n",
              "            google.colab.kernel.accessAllowed ? 'block' : 'none';\n",
              "        })();\n",
              "      </script>\n",
              "    </div>\n",
              "\n",
              "    </div>\n",
              "  </div>\n"
            ],
            "application/vnd.google.colaboratory.intrinsic+json": {
              "type": "dataframe",
              "variable_name": "df",
              "summary": "{\n  \"name\": \"df\",\n  \"rows\": 1732,\n  \"fields\": [\n    {\n      \"column\": \"contact_id\",\n      \"properties\": {\n        \"dtype\": \"number\",\n        \"std\": 529,\n        \"min\": 1,\n        \"max\": 1820,\n        \"num_unique_values\": 1732,\n        \"samples\": [\n          606,\n          1801,\n          635\n        ],\n        \"semantic_type\": \"\",\n        \"description\": \"\"\n      }\n    },\n    {\n      \"column\": \"cohort\",\n      \"properties\": {\n        \"dtype\": \"category\",\n        \"num_unique_values\": 49,\n        \"samples\": [\n          \"2022 Fall - Orem\",\n          \"Waitlist - Orem,Waitlist - Online\",\n          \"2024 Winter - U of U\"\n        ],\n        \"semantic_type\": \"\",\n        \"description\": \"\"\n      }\n    },\n    {\n      \"column\": \"applicant_status\",\n      \"properties\": {\n        \"dtype\": \"category\",\n        \"num_unique_values\": 9,\n        \"samples\": [\n          \"Assessment Received\",\n          \"Dead lead\",\n          \"Applied\"\n        ],\n        \"semantic_type\": \"\",\n        \"description\": \"\"\n      }\n    },\n    {\n      \"column\": \"children\",\n      \"properties\": {\n        \"dtype\": \"number\",\n        \"std\": 1.523914054905628,\n        \"min\": 0.0,\n        \"max\": 10.0,\n        \"num_unique_values\": 11,\n        \"samples\": [\n          0.0,\n          3.0,\n          10.0\n        ],\n        \"semantic_type\": \"\",\n        \"description\": \"\"\n      }\n    },\n    {\n      \"column\": \"computer_availability\",\n      \"properties\": {\n        \"dtype\": \"category\",\n        \"num_unique_values\": 3,\n        \"samples\": [\n          \"I do not own a laptop\",\n          \"Laptop (Mac)\",\n          \"Laptop (PC)\"\n        ],\n        \"semantic_type\": \"\",\n        \"description\": \"\"\n      }\n    },\n    {\n      \"column\": \"employment_status\",\n      \"properties\": {\n        \"dtype\": \"category\",\n        \"num_unique_values\": 4,\n        \"samples\": [\n          \"Employed almost full-time (up to 35 hrs)\",\n          \"No, currently not employed outside the home\",\n          \"Employed full-time (35 hrs+)\"\n        ],\n        \"semantic_type\": \"\",\n        \"description\": \"\"\n      }\n    },\n    {\n      \"column\": \"salary_range\",\n      \"properties\": {\n        \"dtype\": \"category\",\n        \"num_unique_values\": 8,\n        \"samples\": [\n          \"$15K-$25K\",\n          \"I do not currently work outside the home.\",\n          \"$25K-$35K\"\n        ],\n        \"semantic_type\": \"\",\n        \"description\": \"\"\n      }\n    },\n    {\n      \"column\": \"relationship_and_marital_status\",\n      \"properties\": {\n        \"dtype\": \"category\",\n        \"num_unique_values\": 6,\n        \"samples\": [\n          \"Married\",\n          \"Single\",\n          \"Other\"\n        ],\n        \"semantic_type\": \"\",\n        \"description\": \"\"\n      }\n    },\n    {\n      \"column\": \"household_income\",\n      \"properties\": {\n        \"dtype\": \"category\",\n        \"num_unique_values\": 10,\n        \"samples\": [\n          \"$150k - $200k\",\n          \"$25k - $35k\",\n          \"$75k - $100k\"\n        ],\n        \"semantic_type\": \"\",\n        \"description\": \"\"\n      }\n    },\n    {\n      \"column\": \"education_level\",\n      \"properties\": {\n        \"dtype\": \"category\",\n        \"num_unique_values\": 7,\n        \"samples\": [\n          \"Bachelor's Degree\",\n          \"Associates Degree\",\n          \"Certificate\"\n        ],\n        \"semantic_type\": \"\",\n        \"description\": \"\"\n      }\n    },\n    {\n      \"column\": \"lgbtqi_identity\",\n      \"properties\": {\n        \"dtype\": \"category\",\n        \"num_unique_values\": 1,\n        \"samples\": [\n          \"checked\"\n        ],\n        \"semantic_type\": \"\",\n        \"description\": \"\"\n      }\n    },\n    {\n      \"column\": \"veteran_status\",\n      \"properties\": {\n        \"dtype\": \"category\",\n        \"num_unique_values\": 1,\n        \"samples\": [\n          \"checked\"\n        ],\n        \"semantic_type\": \"\",\n        \"description\": \"\"\n      }\n    },\n    {\n      \"column\": \"race_ethnicity\",\n      \"properties\": {\n        \"dtype\": \"category\",\n        \"num_unique_values\": 37,\n        \"samples\": [\n          \"Native Hawaiian or Other Pacific Islander,Hispanic or Latina,White\"\n        ],\n        \"semantic_type\": \"\",\n        \"description\": \"\"\n      }\n    },\n    {\n      \"column\": \"create_date\",\n      \"properties\": {\n        \"dtype\": \"date\",\n        \"min\": \"2020-11-25 09:20:00\",\n        \"max\": \"2024-08-28 13:46:00\",\n        \"num_unique_values\": 1638,\n        \"samples\": [\n          \"2022-07-24 13:22:00\"\n        ],\n        \"semantic_type\": \"\",\n        \"description\": \"\"\n      }\n    },\n    {\n      \"column\": \"year\",\n      \"properties\": {\n        \"dtype\": \"int32\",\n        \"num_unique_values\": 5,\n        \"samples\": [\n          2021\n        ],\n        \"semantic_type\": \"\",\n        \"description\": \"\"\n      }\n    },\n    {\n      \"column\": \"ethnicity_simplified\",\n      \"properties\": {\n        \"dtype\": \"category\",\n        \"num_unique_values\": 11,\n        \"samples\": [\n          \"\\\"Some other race, ethnicity, or origin\\\"\"\n        ],\n        \"semantic_type\": \"\",\n        \"description\": \"\"\n      }\n    },\n    {\n      \"column\": \"month\",\n      \"properties\": {\n        \"dtype\": \"int32\",\n        \"num_unique_values\": 12,\n        \"samples\": [\n          10\n        ],\n        \"semantic_type\": \"\",\n        \"description\": \"\"\n      }\n    },\n    {\n      \"column\": \"weekday\",\n      \"properties\": {\n        \"dtype\": \"int32\",\n        \"num_unique_values\": 7,\n        \"samples\": [\n          2\n        ],\n        \"semantic_type\": \"\",\n        \"description\": \"\"\n      }\n    },\n    {\n      \"column\": \"day\",\n      \"properties\": {\n        \"dtype\": \"int32\",\n        \"num_unique_values\": 31,\n        \"samples\": [\n          29\n        ],\n        \"semantic_type\": \"\",\n        \"description\": \"\"\n      }\n    }\n  ]\n}"
            }
          },
          "metadata": {},
          "execution_count": 7
        }
      ]
    },
    {
      "cell_type": "markdown",
      "source": [
        "# 2. Data Cleaning and Handling Missing Values"
      ],
      "metadata": {
        "id": "Sp5UyUuW2198"
      }
    },
    {
      "cell_type": "code",
      "source": [
        "print(\"\\n2. Data Cleaning and Handling Missing Values\")\n",
        "print(\"--------------------------------------------\")\n",
        "\n",
        "# Check for missing values to determine handling strategy\n",
        "print(\"\\nMissing values in each column:\")\n",
        "missing_values = df.isnull().sum()  # Count nulls in each column\n",
        "missing_percent = (df.isnull().sum() / len(df)) * 100  # Calculate percentage\n",
        "missing_df = pd.DataFrame({'Missing Values': missing_values, 'Percentage': missing_percent})\n",
        "missing_df = missing_df.sort_values(by='Missing Values', ascending=False)  # Sort by most missing\n",
        "print(missing_df)"
      ],
      "metadata": {
        "colab": {
          "base_uri": "https://localhost:8080/",
          "height": 0
        },
        "id": "aEI8MEfl25DE",
        "outputId": "53a72c2d-5a3f-4c0c-fc74-359d2832c1ed"
      },
      "execution_count": 8,
      "outputs": [
        {
          "output_type": "stream",
          "name": "stdout",
          "text": [
            "\n",
            "2. Data Cleaning and Handling Missing Values\n",
            "--------------------------------------------\n",
            "\n",
            "Missing values in each column:\n",
            "                                 Missing Values  Percentage\n",
            "veteran_status                             1708   98.614319\n",
            "lgbtqi_identity                            1636   94.457275\n",
            "computer_availability                       106    6.120092\n",
            "employment_status                            70    4.041570\n",
            "race_ethnicity                               50    2.886836\n",
            "salary_range                                 43    2.482679\n",
            "children                                     28    1.616628\n",
            "cohort                                        3    0.173210\n",
            "applicant_status                              3    0.173210\n",
            "contact_id                                    0    0.000000\n",
            "relationship_and_marital_status               0    0.000000\n",
            "education_level                               0    0.000000\n",
            "household_income                              0    0.000000\n",
            "create_date                                   0    0.000000\n",
            "year                                          0    0.000000\n",
            "ethnicity_simplified                          0    0.000000\n",
            "month                                         0    0.000000\n",
            "weekday                                       0    0.000000\n",
            "day                                           0    0.000000\n"
          ]
        }
      ]
    },
    {
      "cell_type": "code",
      "source": [
        "# Handle missing values - different strategy for each column based on its nature and importance"
      ],
      "metadata": {
        "id": "qH6vFArp3hlT"
      },
      "execution_count": 9,
      "outputs": []
    },
    {
      "cell_type": "code",
      "source": [
        "# For veteran_status and lgbtqi_identity: These have very high missing values (>90%)\n",
        "# Since these are demographic fields that were likely optional, we'll create a \"Not Specified\" category\n",
        "df['veteran_status'] = df['veteran_status'].fillna('Not Specified')\n",
        "df['lgbtqi_identity'] = df['lgbtqi_identity'].fillna('Not Specified')"
      ],
      "metadata": {
        "id": "uKMsFMFS3lOK"
      },
      "execution_count": 10,
      "outputs": []
    },
    {
      "cell_type": "code",
      "source": [
        "# For computer_availability: Important for program participation, create a separate category\n",
        "df['computer_availability'] = df['computer_availability'].fillna('Not Specified')"
      ],
      "metadata": {
        "id": "GMsBGjAe3mgq"
      },
      "execution_count": 11,
      "outputs": []
    },
    {
      "cell_type": "code",
      "source": [
        "# For employment_status: Important for program qualification, create \"Not Specified\" category\n",
        "df['employment_status'] = df['employment_status'].fillna('Not Specified')"
      ],
      "metadata": {
        "id": "6yc0ccRk3sEL"
      },
      "execution_count": 12,
      "outputs": []
    },
    {
      "cell_type": "code",
      "source": [
        "# For children: We'll impute with the median number of children (less biased than mean)\n",
        "median_children = df['children'].median()\n",
        "df['children'] = df['children'].fillna(median_children)\n",
        "print(f\"\\nImputed missing 'children' values with median: {median_children}\")"
      ],
      "metadata": {
        "colab": {
          "base_uri": "https://localhost:8080/",
          "height": 0
        },
        "id": "b51XDXbJ3u1r",
        "outputId": "b60c380e-52dc-4cc7-8a9c-934b4e5c69ca"
      },
      "execution_count": 13,
      "outputs": [
        {
          "output_type": "stream",
          "name": "stdout",
          "text": [
            "\n",
            "Imputed missing 'children' values with median: 2.0\n"
          ]
        }
      ]
    },
    {
      "cell_type": "code",
      "source": [
        "# For salary_range: Create a \"Not Specified\" category for missing values\n",
        "df['salary_range'] = df['salary_range'].fillna('Not Specified')"
      ],
      "metadata": {
        "id": "6gU9vTr93x1E"
      },
      "execution_count": 14,
      "outputs": []
    },
    {
      "cell_type": "code",
      "source": [
        "# For race_ethnicity: Create a \"Not Specified\" category\n",
        "df['race_ethnicity'] = df['race_ethnicity'].fillna('Not Specified')"
      ],
      "metadata": {
        "id": "YDgg9qDI322c"
      },
      "execution_count": 15,
      "outputs": []
    },
    {
      "cell_type": "code",
      "source": [
        "# Handling missing values in cohort and applicant_status (very few missing)\n",
        "# For cohort: Fill with \"Unknown\"\n",
        "df['cohort'] = df['cohort'].fillna('Unknown')"
      ],
      "metadata": {
        "id": "U44BMHwn352U"
      },
      "execution_count": 16,
      "outputs": []
    },
    {
      "cell_type": "code",
      "source": [
        "# For applicant_status: Fill with \"Unknown\"\n",
        "df['applicant_status'] = df['applicant_status'].fillna('Unknown')"
      ],
      "metadata": {
        "id": "nfIEphlV38OM"
      },
      "execution_count": 17,
      "outputs": []
    },
    {
      "cell_type": "code",
      "source": [
        "# Check remaining missing values after handling\n",
        "print(\"\\nRemaining missing values after handling:\")\n",
        "print(df.isnull().sum())  # Should show zeros or very few remaining missing values"
      ],
      "metadata": {
        "colab": {
          "base_uri": "https://localhost:8080/",
          "height": 0
        },
        "id": "_aeiXD8A3-QU",
        "outputId": "a85d7c08-91db-482c-f028-5778c3c27a1d"
      },
      "execution_count": 18,
      "outputs": [
        {
          "output_type": "stream",
          "name": "stdout",
          "text": [
            "\n",
            "Remaining missing values after handling:\n",
            "contact_id                         0\n",
            "cohort                             0\n",
            "applicant_status                   0\n",
            "children                           0\n",
            "computer_availability              0\n",
            "employment_status                  0\n",
            "salary_range                       0\n",
            "relationship_and_marital_status    0\n",
            "household_income                   0\n",
            "education_level                    0\n",
            "lgbtqi_identity                    0\n",
            "veteran_status                     0\n",
            "race_ethnicity                     0\n",
            "create_date                        0\n",
            "year                               0\n",
            "ethnicity_simplified               0\n",
            "month                              0\n",
            "weekday                            0\n",
            "day                                0\n",
            "dtype: int64\n"
          ]
        }
      ]
    },
    {
      "cell_type": "markdown",
      "source": [
        "# 3. Feature Engineering"
      ],
      "metadata": {
        "id": "NPhW3JEl59HW"
      }
    },
    {
      "cell_type": "code",
      "source": [
        "# Creating new features that might be predictive of program outcomes\n",
        "print(\"\\n3. Feature Engineering\")\n",
        "print(\"---------------------\")"
      ],
      "metadata": {
        "colab": {
          "base_uri": "https://localhost:8080/",
          "height": 0
        },
        "id": "_p11Cm8D4Fus",
        "outputId": "aec56e8f-a896-49c9-dc5e-0d82a69ac763"
      },
      "execution_count": 19,
      "outputs": [
        {
          "output_type": "stream",
          "name": "stdout",
          "text": [
            "\n",
            "3. Feature Engineering\n",
            "---------------------\n"
          ]
        }
      ]
    },
    {
      "cell_type": "code",
      "source": [
        "# Encode binary indicator for computer ownership\n",
        "# This simplifies the computer availability into a yes/no feature\n",
        "df['has_computer'] = df['computer_availability'].apply(\n",
        "    lambda x: 0 if x == 'I do not own a laptop' or x == 'Not Specified' else 1)"
      ],
      "metadata": {
        "id": "bBmxMobg6FAe"
      },
      "execution_count": 20,
      "outputs": []
    },
    {
      "cell_type": "code",
      "source": [
        "# Create a feature for the number of children categories\n",
        "# Grouping children into meaningful categories for analysis\n",
        "df['children_category'] = pd.cut(\n",
        "    df['children'],\n",
        "    bins=[-1, 0, 1, 3, float('inf')],  # Define bin boundaries\n",
        "    labels=['No Children', 'One Child', '2-3 Children', '4+ Children']  # Labels for each bin\n",
        ")"
      ],
      "metadata": {
        "id": "rvpWWw5t6Y13"
      },
      "execution_count": 21,
      "outputs": []
    },
    {
      "cell_type": "code",
      "source": [
        "# Simplify employment status - group similar statuses together\n",
        "def simplify_employment(status):\n",
        "    \"\"\"\n",
        "    Function to categorize employment status into broader groups\n",
        "    \"\"\"\n",
        "    if pd.isna(status) or status == 'Not Specified':\n",
        "        return 'Not Specified'\n",
        "    elif 'full-time' in str(status).lower():\n",
        "        return 'Full-time'\n",
        "    elif 'part-time' in str(status).lower() or 'almost full' in str(status).lower():\n",
        "        return 'Part-time'\n",
        "    elif 'not employed' in str(status).lower():\n",
        "        return 'Not Employed'\n",
        "    else:\n",
        "        return 'Other'"
      ],
      "metadata": {
        "id": "18CCANbE6cka"
      },
      "execution_count": 22,
      "outputs": []
    },
    {
      "cell_type": "code",
      "source": [
        "df['employment_simplified'] = df['employment_status'].apply(simplify_employment)"
      ],
      "metadata": {
        "id": "HlcByeAi6hSg"
      },
      "execution_count": 23,
      "outputs": []
    },
    {
      "cell_type": "code",
      "source": [
        "# Create a feature for education level category\n",
        "# Grouping education levels into broader categories\n",
        "def categorize_education(edu):\n",
        "    \"\"\"\n",
        "    Function to group education levels into broader categories\n",
        "    \"\"\"\n",
        "    if pd.isna(edu):\n",
        "        return 'Not Specified'\n",
        "    elif 'High School' in edu:\n",
        "        return 'High School'\n",
        "    elif 'Some College' in edu or 'Certificate' in edu or 'Associates' in edu:\n",
        "        return 'Some College'\n",
        "    elif 'Bachelor' in edu:\n",
        "        return 'Bachelor'\n",
        "    elif 'Graduate' in edu or 'Doctoral' in edu or 'Professional' in edu:\n",
        "        return 'Advanced Degree'\n",
        "    else:\n",
        "        return 'Other'"
      ],
      "metadata": {
        "id": "yVjBGGrW6lhR"
      },
      "execution_count": 24,
      "outputs": []
    },
    {
      "cell_type": "code",
      "source": [
        "df['education_category'] = df['education_level'].apply(categorize_education)"
      ],
      "metadata": {
        "id": "0CLYrK7L6ppB"
      },
      "execution_count": 25,
      "outputs": []
    },
    {
      "cell_type": "code",
      "source": [
        "# Make sure all missing values are consistently handled\n",
        "df['household_income'] = df['household_income'].fillna('Missing')"
      ],
      "metadata": {
        "id": "q1BsOeuiDKYJ"
      },
      "execution_count": 26,
      "outputs": []
    },
    {
      "cell_type": "code",
      "source": [
        "# Create a feature for household income band\n",
        "# Grouping income ranges into low, middle, and high categories\n",
        "def income_band(income):\n",
        "    if pd.isna(income) or income == '' or income == 'Missing':\n",
        "        return 'Unknown'  # Using a completely different name to avoid conflicts\n",
        "    elif any(x in income for x in ['0-25', '25-35', '35-50']):\n",
        "        return 'Low'      # Shorter, simpler names\n",
        "    elif any(x in income for x in ['50-75', '75-100']):\n",
        "        return 'Medium'   # Shorter, simpler names\n",
        "    elif any(x in income for x in ['100-150', '150+']):\n",
        "        return 'High'     # Shorter, simpler names\n",
        "    else:\n",
        "        return 'Other'    # Simple catch-all"
      ],
      "metadata": {
        "id": "cTIghLRt6sM5"
      },
      "execution_count": 27,
      "outputs": []
    },
    {
      "cell_type": "code",
      "source": [
        "df['income_band'] = df['household_income'].apply(income_band)"
      ],
      "metadata": {
        "id": "1LCiBRWB6v76"
      },
      "execution_count": 28,
      "outputs": []
    },
    {
      "cell_type": "code",
      "source": [
        "# Simplify race/ethnicity\n",
        "# Group race/ethnicity into fewer, more manageable categories\n",
        "def simplify_race(race):\n",
        "    \"\"\"\n",
        "    Function to standardize race/ethnicity categories\n",
        "    \"\"\"\n",
        "    if pd.isna(race):\n",
        "        return 'Not Specified'\n",
        "    elif 'White' in race and not any(x in race for x in ['Hispanic', 'Asian', 'Black', 'Native', 'Pacific']):\n",
        "        return 'White only'  # White, not multiracial\n",
        "    elif 'Hispanic' in race or 'Latino' in race:\n",
        "        return 'Hispanic/Latino'  # Any Hispanic/Latino identification\n",
        "    elif 'Black' in race or 'African' in race:\n",
        "        return 'Black/African American'\n",
        "    elif 'Asian' in race:\n",
        "        return 'Asian'\n",
        "    elif 'Native' in race or 'Pacific' in race:\n",
        "        return 'Native American/Pacific Islander'\n",
        "    elif 'Other' in race:\n",
        "        return 'Other'\n",
        "    else:\n",
        "        return 'Multiracial/Other'  # If multiple races indicated or doesn't fit above categories"
      ],
      "metadata": {
        "id": "9b_vq0Dl6zTC"
      },
      "execution_count": 29,
      "outputs": []
    },
    {
      "cell_type": "code",
      "source": [
        "df['race_simplified'] = df['race_ethnicity'].apply(simplify_race)"
      ],
      "metadata": {
        "id": "8IV9MPe6624V"
      },
      "execution_count": 30,
      "outputs": []
    },
    {
      "cell_type": "code",
      "source": [
        "# Create a target variable for successful applications\n",
        "# Binary indicator for whether applicant was accepted into program\n",
        "df['accepted'] = df['applicant_status'].apply(\n",
        "    lambda x: 1 if x == 'Assigned Cohort' else 0\n",
        ")"
      ],
      "metadata": {
        "id": "CHn-Jh4z66KT"
      },
      "execution_count": 31,
      "outputs": []
    },
    {
      "cell_type": "code",
      "source": [
        "# Encode time-based features for when application was submitted\n",
        "# Quarter of the year (Q1-Q4)\n",
        "df['quarter'] = (df['month'] - 1) // 3 + 1  # Calculate quarter from month"
      ],
      "metadata": {
        "id": "uLbi07dA692D"
      },
      "execution_count": 32,
      "outputs": []
    },
    {
      "cell_type": "code",
      "source": [
        "# Weekend vs Weekday indicator\n",
        "df['is_weekend'] = df['weekday'].apply(lambda x: 1 if x >= 5 else 0)  # 5=Saturday, 6=Sunday"
      ],
      "metadata": {
        "id": "j2FX7DIi7BNL"
      },
      "execution_count": 33,
      "outputs": []
    },
    {
      "cell_type": "code",
      "source": [
        "# Display sample of the engineered features\n",
        "print(\"\\nSample of engineered features:\")\n",
        "columns_to_show = ['contact_id', 'has_computer', 'children_category',\n",
        "                  'employment_simplified', 'education_category',\n",
        "                  'income_band', 'race_simplified', 'accepted',\n",
        "                  'quarter', 'is_weekend']\n",
        "df[columns_to_show].head(10)  # Show first 10 rows of selected columns"
      ],
      "metadata": {
        "colab": {
          "base_uri": "https://localhost:8080/",
          "height": 399
        },
        "id": "Xg8nmUY07Dq8",
        "outputId": "3f9be465-4e52-49a1-8ad0-10a17cb6bdeb"
      },
      "execution_count": 34,
      "outputs": [
        {
          "output_type": "stream",
          "name": "stdout",
          "text": [
            "\n",
            "Sample of engineered features:\n"
          ]
        },
        {
          "output_type": "execute_result",
          "data": {
            "text/plain": [
              "   contact_id  has_computer children_category employment_simplified  \\\n",
              "0           1             0      2-3 Children         Not Specified   \n",
              "1           2             1      2-3 Children             Full-time   \n",
              "2           3             1      2-3 Children             Full-time   \n",
              "3           4             1         One Child             Full-time   \n",
              "4           5             1      2-3 Children         Not Specified   \n",
              "5           6             1         One Child             Full-time   \n",
              "6           7             1      2-3 Children         Not Specified   \n",
              "7           8             1      2-3 Children             Part-time   \n",
              "8           9             1       4+ Children         Not Specified   \n",
              "9          10             1       4+ Children             Full-time   \n",
              "\n",
              "  education_category income_band  race_simplified  accepted  quarter  \\\n",
              "0           Bachelor       Other       White only         0        4   \n",
              "1           Bachelor       Other       White only         0        4   \n",
              "2           Bachelor       Other       White only         0        4   \n",
              "3       Some College       Other  Hispanic/Latino         1        4   \n",
              "4           Bachelor       Other       White only         0        4   \n",
              "5        High School       Other       White only         0        4   \n",
              "6           Bachelor       Other       White only         0        4   \n",
              "7    Advanced Degree       Other       White only         0        4   \n",
              "8        High School       Other       White only         0        4   \n",
              "9       Some College       Other       White only         0        4   \n",
              "\n",
              "   is_weekend  \n",
              "0           0  \n",
              "1           0  \n",
              "2           0  \n",
              "3           0  \n",
              "4           0  \n",
              "5           0  \n",
              "6           0  \n",
              "7           0  \n",
              "8           0  \n",
              "9           0  "
            ],
            "text/html": [
              "\n",
              "  <div id=\"df-59192baa-1d3e-468f-abd0-d6022a2160ac\" class=\"colab-df-container\">\n",
              "    <div>\n",
              "<style scoped>\n",
              "    .dataframe tbody tr th:only-of-type {\n",
              "        vertical-align: middle;\n",
              "    }\n",
              "\n",
              "    .dataframe tbody tr th {\n",
              "        vertical-align: top;\n",
              "    }\n",
              "\n",
              "    .dataframe thead th {\n",
              "        text-align: right;\n",
              "    }\n",
              "</style>\n",
              "<table border=\"1\" class=\"dataframe\">\n",
              "  <thead>\n",
              "    <tr style=\"text-align: right;\">\n",
              "      <th></th>\n",
              "      <th>contact_id</th>\n",
              "      <th>has_computer</th>\n",
              "      <th>children_category</th>\n",
              "      <th>employment_simplified</th>\n",
              "      <th>education_category</th>\n",
              "      <th>income_band</th>\n",
              "      <th>race_simplified</th>\n",
              "      <th>accepted</th>\n",
              "      <th>quarter</th>\n",
              "      <th>is_weekend</th>\n",
              "    </tr>\n",
              "  </thead>\n",
              "  <tbody>\n",
              "    <tr>\n",
              "      <th>0</th>\n",
              "      <td>1</td>\n",
              "      <td>0</td>\n",
              "      <td>2-3 Children</td>\n",
              "      <td>Not Specified</td>\n",
              "      <td>Bachelor</td>\n",
              "      <td>Other</td>\n",
              "      <td>White only</td>\n",
              "      <td>0</td>\n",
              "      <td>4</td>\n",
              "      <td>0</td>\n",
              "    </tr>\n",
              "    <tr>\n",
              "      <th>1</th>\n",
              "      <td>2</td>\n",
              "      <td>1</td>\n",
              "      <td>2-3 Children</td>\n",
              "      <td>Full-time</td>\n",
              "      <td>Bachelor</td>\n",
              "      <td>Other</td>\n",
              "      <td>White only</td>\n",
              "      <td>0</td>\n",
              "      <td>4</td>\n",
              "      <td>0</td>\n",
              "    </tr>\n",
              "    <tr>\n",
              "      <th>2</th>\n",
              "      <td>3</td>\n",
              "      <td>1</td>\n",
              "      <td>2-3 Children</td>\n",
              "      <td>Full-time</td>\n",
              "      <td>Bachelor</td>\n",
              "      <td>Other</td>\n",
              "      <td>White only</td>\n",
              "      <td>0</td>\n",
              "      <td>4</td>\n",
              "      <td>0</td>\n",
              "    </tr>\n",
              "    <tr>\n",
              "      <th>3</th>\n",
              "      <td>4</td>\n",
              "      <td>1</td>\n",
              "      <td>One Child</td>\n",
              "      <td>Full-time</td>\n",
              "      <td>Some College</td>\n",
              "      <td>Other</td>\n",
              "      <td>Hispanic/Latino</td>\n",
              "      <td>1</td>\n",
              "      <td>4</td>\n",
              "      <td>0</td>\n",
              "    </tr>\n",
              "    <tr>\n",
              "      <th>4</th>\n",
              "      <td>5</td>\n",
              "      <td>1</td>\n",
              "      <td>2-3 Children</td>\n",
              "      <td>Not Specified</td>\n",
              "      <td>Bachelor</td>\n",
              "      <td>Other</td>\n",
              "      <td>White only</td>\n",
              "      <td>0</td>\n",
              "      <td>4</td>\n",
              "      <td>0</td>\n",
              "    </tr>\n",
              "    <tr>\n",
              "      <th>5</th>\n",
              "      <td>6</td>\n",
              "      <td>1</td>\n",
              "      <td>One Child</td>\n",
              "      <td>Full-time</td>\n",
              "      <td>High School</td>\n",
              "      <td>Other</td>\n",
              "      <td>White only</td>\n",
              "      <td>0</td>\n",
              "      <td>4</td>\n",
              "      <td>0</td>\n",
              "    </tr>\n",
              "    <tr>\n",
              "      <th>6</th>\n",
              "      <td>7</td>\n",
              "      <td>1</td>\n",
              "      <td>2-3 Children</td>\n",
              "      <td>Not Specified</td>\n",
              "      <td>Bachelor</td>\n",
              "      <td>Other</td>\n",
              "      <td>White only</td>\n",
              "      <td>0</td>\n",
              "      <td>4</td>\n",
              "      <td>0</td>\n",
              "    </tr>\n",
              "    <tr>\n",
              "      <th>7</th>\n",
              "      <td>8</td>\n",
              "      <td>1</td>\n",
              "      <td>2-3 Children</td>\n",
              "      <td>Part-time</td>\n",
              "      <td>Advanced Degree</td>\n",
              "      <td>Other</td>\n",
              "      <td>White only</td>\n",
              "      <td>0</td>\n",
              "      <td>4</td>\n",
              "      <td>0</td>\n",
              "    </tr>\n",
              "    <tr>\n",
              "      <th>8</th>\n",
              "      <td>9</td>\n",
              "      <td>1</td>\n",
              "      <td>4+ Children</td>\n",
              "      <td>Not Specified</td>\n",
              "      <td>High School</td>\n",
              "      <td>Other</td>\n",
              "      <td>White only</td>\n",
              "      <td>0</td>\n",
              "      <td>4</td>\n",
              "      <td>0</td>\n",
              "    </tr>\n",
              "    <tr>\n",
              "      <th>9</th>\n",
              "      <td>10</td>\n",
              "      <td>1</td>\n",
              "      <td>4+ Children</td>\n",
              "      <td>Full-time</td>\n",
              "      <td>Some College</td>\n",
              "      <td>Other</td>\n",
              "      <td>White only</td>\n",
              "      <td>0</td>\n",
              "      <td>4</td>\n",
              "      <td>0</td>\n",
              "    </tr>\n",
              "  </tbody>\n",
              "</table>\n",
              "</div>\n",
              "    <div class=\"colab-df-buttons\">\n",
              "\n",
              "  <div class=\"colab-df-container\">\n",
              "    <button class=\"colab-df-convert\" onclick=\"convertToInteractive('df-59192baa-1d3e-468f-abd0-d6022a2160ac')\"\n",
              "            title=\"Convert this dataframe to an interactive table.\"\n",
              "            style=\"display:none;\">\n",
              "\n",
              "  <svg xmlns=\"http://www.w3.org/2000/svg\" height=\"24px\" viewBox=\"0 -960 960 960\">\n",
              "    <path d=\"M120-120v-720h720v720H120Zm60-500h600v-160H180v160Zm220 220h160v-160H400v160Zm0 220h160v-160H400v160ZM180-400h160v-160H180v160Zm440 0h160v-160H620v160ZM180-180h160v-160H180v160Zm440 0h160v-160H620v160Z\"/>\n",
              "  </svg>\n",
              "    </button>\n",
              "\n",
              "  <style>\n",
              "    .colab-df-container {\n",
              "      display:flex;\n",
              "      gap: 12px;\n",
              "    }\n",
              "\n",
              "    .colab-df-convert {\n",
              "      background-color: #E8F0FE;\n",
              "      border: none;\n",
              "      border-radius: 50%;\n",
              "      cursor: pointer;\n",
              "      display: none;\n",
              "      fill: #1967D2;\n",
              "      height: 32px;\n",
              "      padding: 0 0 0 0;\n",
              "      width: 32px;\n",
              "    }\n",
              "\n",
              "    .colab-df-convert:hover {\n",
              "      background-color: #E2EBFA;\n",
              "      box-shadow: 0px 1px 2px rgba(60, 64, 67, 0.3), 0px 1px 3px 1px rgba(60, 64, 67, 0.15);\n",
              "      fill: #174EA6;\n",
              "    }\n",
              "\n",
              "    .colab-df-buttons div {\n",
              "      margin-bottom: 4px;\n",
              "    }\n",
              "\n",
              "    [theme=dark] .colab-df-convert {\n",
              "      background-color: #3B4455;\n",
              "      fill: #D2E3FC;\n",
              "    }\n",
              "\n",
              "    [theme=dark] .colab-df-convert:hover {\n",
              "      background-color: #434B5C;\n",
              "      box-shadow: 0px 1px 3px 1px rgba(0, 0, 0, 0.15);\n",
              "      filter: drop-shadow(0px 1px 2px rgba(0, 0, 0, 0.3));\n",
              "      fill: #FFFFFF;\n",
              "    }\n",
              "  </style>\n",
              "\n",
              "    <script>\n",
              "      const buttonEl =\n",
              "        document.querySelector('#df-59192baa-1d3e-468f-abd0-d6022a2160ac button.colab-df-convert');\n",
              "      buttonEl.style.display =\n",
              "        google.colab.kernel.accessAllowed ? 'block' : 'none';\n",
              "\n",
              "      async function convertToInteractive(key) {\n",
              "        const element = document.querySelector('#df-59192baa-1d3e-468f-abd0-d6022a2160ac');\n",
              "        const dataTable =\n",
              "          await google.colab.kernel.invokeFunction('convertToInteractive',\n",
              "                                                    [key], {});\n",
              "        if (!dataTable) return;\n",
              "\n",
              "        const docLinkHtml = 'Like what you see? Visit the ' +\n",
              "          '<a target=\"_blank\" href=https://colab.research.google.com/notebooks/data_table.ipynb>data table notebook</a>'\n",
              "          + ' to learn more about interactive tables.';\n",
              "        element.innerHTML = '';\n",
              "        dataTable['output_type'] = 'display_data';\n",
              "        await google.colab.output.renderOutput(dataTable, element);\n",
              "        const docLink = document.createElement('div');\n",
              "        docLink.innerHTML = docLinkHtml;\n",
              "        element.appendChild(docLink);\n",
              "      }\n",
              "    </script>\n",
              "  </div>\n",
              "\n",
              "\n",
              "    <div id=\"df-c2366f7b-cb6f-4dba-9d01-20fda1154520\">\n",
              "      <button class=\"colab-df-quickchart\" onclick=\"quickchart('df-c2366f7b-cb6f-4dba-9d01-20fda1154520')\"\n",
              "                title=\"Suggest charts\"\n",
              "                style=\"display:none;\">\n",
              "\n",
              "<svg xmlns=\"http://www.w3.org/2000/svg\" height=\"24px\"viewBox=\"0 0 24 24\"\n",
              "     width=\"24px\">\n",
              "    <g>\n",
              "        <path d=\"M19 3H5c-1.1 0-2 .9-2 2v14c0 1.1.9 2 2 2h14c1.1 0 2-.9 2-2V5c0-1.1-.9-2-2-2zM9 17H7v-7h2v7zm4 0h-2V7h2v10zm4 0h-2v-4h2v4z\"/>\n",
              "    </g>\n",
              "</svg>\n",
              "      </button>\n",
              "\n",
              "<style>\n",
              "  .colab-df-quickchart {\n",
              "      --bg-color: #E8F0FE;\n",
              "      --fill-color: #1967D2;\n",
              "      --hover-bg-color: #E2EBFA;\n",
              "      --hover-fill-color: #174EA6;\n",
              "      --disabled-fill-color: #AAA;\n",
              "      --disabled-bg-color: #DDD;\n",
              "  }\n",
              "\n",
              "  [theme=dark] .colab-df-quickchart {\n",
              "      --bg-color: #3B4455;\n",
              "      --fill-color: #D2E3FC;\n",
              "      --hover-bg-color: #434B5C;\n",
              "      --hover-fill-color: #FFFFFF;\n",
              "      --disabled-bg-color: #3B4455;\n",
              "      --disabled-fill-color: #666;\n",
              "  }\n",
              "\n",
              "  .colab-df-quickchart {\n",
              "    background-color: var(--bg-color);\n",
              "    border: none;\n",
              "    border-radius: 50%;\n",
              "    cursor: pointer;\n",
              "    display: none;\n",
              "    fill: var(--fill-color);\n",
              "    height: 32px;\n",
              "    padding: 0;\n",
              "    width: 32px;\n",
              "  }\n",
              "\n",
              "  .colab-df-quickchart:hover {\n",
              "    background-color: var(--hover-bg-color);\n",
              "    box-shadow: 0 1px 2px rgba(60, 64, 67, 0.3), 0 1px 3px 1px rgba(60, 64, 67, 0.15);\n",
              "    fill: var(--button-hover-fill-color);\n",
              "  }\n",
              "\n",
              "  .colab-df-quickchart-complete:disabled,\n",
              "  .colab-df-quickchart-complete:disabled:hover {\n",
              "    background-color: var(--disabled-bg-color);\n",
              "    fill: var(--disabled-fill-color);\n",
              "    box-shadow: none;\n",
              "  }\n",
              "\n",
              "  .colab-df-spinner {\n",
              "    border: 2px solid var(--fill-color);\n",
              "    border-color: transparent;\n",
              "    border-bottom-color: var(--fill-color);\n",
              "    animation:\n",
              "      spin 1s steps(1) infinite;\n",
              "  }\n",
              "\n",
              "  @keyframes spin {\n",
              "    0% {\n",
              "      border-color: transparent;\n",
              "      border-bottom-color: var(--fill-color);\n",
              "      border-left-color: var(--fill-color);\n",
              "    }\n",
              "    20% {\n",
              "      border-color: transparent;\n",
              "      border-left-color: var(--fill-color);\n",
              "      border-top-color: var(--fill-color);\n",
              "    }\n",
              "    30% {\n",
              "      border-color: transparent;\n",
              "      border-left-color: var(--fill-color);\n",
              "      border-top-color: var(--fill-color);\n",
              "      border-right-color: var(--fill-color);\n",
              "    }\n",
              "    40% {\n",
              "      border-color: transparent;\n",
              "      border-right-color: var(--fill-color);\n",
              "      border-top-color: var(--fill-color);\n",
              "    }\n",
              "    60% {\n",
              "      border-color: transparent;\n",
              "      border-right-color: var(--fill-color);\n",
              "    }\n",
              "    80% {\n",
              "      border-color: transparent;\n",
              "      border-right-color: var(--fill-color);\n",
              "      border-bottom-color: var(--fill-color);\n",
              "    }\n",
              "    90% {\n",
              "      border-color: transparent;\n",
              "      border-bottom-color: var(--fill-color);\n",
              "    }\n",
              "  }\n",
              "</style>\n",
              "\n",
              "      <script>\n",
              "        async function quickchart(key) {\n",
              "          const quickchartButtonEl =\n",
              "            document.querySelector('#' + key + ' button');\n",
              "          quickchartButtonEl.disabled = true;  // To prevent multiple clicks.\n",
              "          quickchartButtonEl.classList.add('colab-df-spinner');\n",
              "          try {\n",
              "            const charts = await google.colab.kernel.invokeFunction(\n",
              "                'suggestCharts', [key], {});\n",
              "          } catch (error) {\n",
              "            console.error('Error during call to suggestCharts:', error);\n",
              "          }\n",
              "          quickchartButtonEl.classList.remove('colab-df-spinner');\n",
              "          quickchartButtonEl.classList.add('colab-df-quickchart-complete');\n",
              "        }\n",
              "        (() => {\n",
              "          let quickchartButtonEl =\n",
              "            document.querySelector('#df-c2366f7b-cb6f-4dba-9d01-20fda1154520 button');\n",
              "          quickchartButtonEl.style.display =\n",
              "            google.colab.kernel.accessAllowed ? 'block' : 'none';\n",
              "        })();\n",
              "      </script>\n",
              "    </div>\n",
              "\n",
              "    </div>\n",
              "  </div>\n"
            ],
            "application/vnd.google.colaboratory.intrinsic+json": {
              "type": "dataframe",
              "summary": "{\n  \"name\": \"df[columns_to_show]\",\n  \"rows\": 10,\n  \"fields\": [\n    {\n      \"column\": \"contact_id\",\n      \"properties\": {\n        \"dtype\": \"number\",\n        \"std\": 3,\n        \"min\": 1,\n        \"max\": 10,\n        \"num_unique_values\": 10,\n        \"samples\": [\n          9,\n          2,\n          6\n        ],\n        \"semantic_type\": \"\",\n        \"description\": \"\"\n      }\n    },\n    {\n      \"column\": \"has_computer\",\n      \"properties\": {\n        \"dtype\": \"number\",\n        \"std\": 0,\n        \"min\": 0,\n        \"max\": 1,\n        \"num_unique_values\": 2,\n        \"samples\": [\n          1,\n          0\n        ],\n        \"semantic_type\": \"\",\n        \"description\": \"\"\n      }\n    },\n    {\n      \"column\": \"children_category\",\n      \"properties\": {\n        \"dtype\": \"category\",\n        \"num_unique_values\": 3,\n        \"samples\": [\n          \"2-3 Children\",\n          \"One Child\"\n        ],\n        \"semantic_type\": \"\",\n        \"description\": \"\"\n      }\n    },\n    {\n      \"column\": \"employment_simplified\",\n      \"properties\": {\n        \"dtype\": \"category\",\n        \"num_unique_values\": 3,\n        \"samples\": [\n          \"Not Specified\",\n          \"Full-time\"\n        ],\n        \"semantic_type\": \"\",\n        \"description\": \"\"\n      }\n    },\n    {\n      \"column\": \"education_category\",\n      \"properties\": {\n        \"dtype\": \"category\",\n        \"num_unique_values\": 4,\n        \"samples\": [\n          \"Some College\",\n          \"Advanced Degree\"\n        ],\n        \"semantic_type\": \"\",\n        \"description\": \"\"\n      }\n    },\n    {\n      \"column\": \"income_band\",\n      \"properties\": {\n        \"dtype\": \"category\",\n        \"num_unique_values\": 1,\n        \"samples\": [\n          \"Other\"\n        ],\n        \"semantic_type\": \"\",\n        \"description\": \"\"\n      }\n    },\n    {\n      \"column\": \"race_simplified\",\n      \"properties\": {\n        \"dtype\": \"category\",\n        \"num_unique_values\": 2,\n        \"samples\": [\n          \"Hispanic/Latino\"\n        ],\n        \"semantic_type\": \"\",\n        \"description\": \"\"\n      }\n    },\n    {\n      \"column\": \"accepted\",\n      \"properties\": {\n        \"dtype\": \"number\",\n        \"std\": 0,\n        \"min\": 0,\n        \"max\": 1,\n        \"num_unique_values\": 2,\n        \"samples\": [\n          1\n        ],\n        \"semantic_type\": \"\",\n        \"description\": \"\"\n      }\n    },\n    {\n      \"column\": \"quarter\",\n      \"properties\": {\n        \"dtype\": \"int32\",\n        \"num_unique_values\": 1,\n        \"samples\": [\n          4\n        ],\n        \"semantic_type\": \"\",\n        \"description\": \"\"\n      }\n    },\n    {\n      \"column\": \"is_weekend\",\n      \"properties\": {\n        \"dtype\": \"number\",\n        \"std\": 0,\n        \"min\": 0,\n        \"max\": 0,\n        \"num_unique_values\": 1,\n        \"samples\": [\n          0\n        ],\n        \"semantic_type\": \"\",\n        \"description\": \"\"\n      }\n    }\n  ]\n}"
            }
          },
          "metadata": {},
          "execution_count": 34
        }
      ]
    },
    {
      "cell_type": "markdown",
      "source": [
        "# 4. Feature Exploration"
      ],
      "metadata": {
        "id": "mRsGdCR87K7k"
      }
    },
    {
      "cell_type": "code",
      "source": [
        "# Examining the relationship between engineered features and acceptance\n",
        "print(\"\\n4. Feature Exploration\")\n",
        "print(\"---------------------\")"
      ],
      "metadata": {
        "colab": {
          "base_uri": "https://localhost:8080/",
          "height": 0
        },
        "id": "XwRTHQw27Q0e",
        "outputId": "d99d7147-4146-44a5-b826-16692dcceb33"
      },
      "execution_count": 35,
      "outputs": [
        {
          "output_type": "stream",
          "name": "stdout",
          "text": [
            "\n",
            "4. Feature Exploration\n",
            "---------------------\n"
          ]
        }
      ]
    },
    {
      "cell_type": "code",
      "source": [
        "# Visualize relationship between new features and acceptance\n",
        "print(\"\\nRelationship between features and acceptance:\")\n",
        "\n",
        "# Computer ownership vs acceptance\n",
        "# Calculate acceptance rate by computer ownership\n",
        "computer_accept = pd.crosstab(df['has_computer'], df['accepted'], normalize='index') * 100\n",
        "print(\"\\nAcceptance Rate by Computer Ownership:\")\n",
        "print(computer_accept)"
      ],
      "metadata": {
        "colab": {
          "base_uri": "https://localhost:8080/",
          "height": 0
        },
        "id": "om0WlnHh7WdP",
        "outputId": "ffdb06fc-9cf9-4e29-9f2e-6148b4fb0cf6"
      },
      "execution_count": 36,
      "outputs": [
        {
          "output_type": "stream",
          "name": "stdout",
          "text": [
            "\n",
            "Relationship between features and acceptance:\n",
            "\n",
            "Acceptance Rate by Computer Ownership:\n",
            "accepted              0          1\n",
            "has_computer                      \n",
            "0             71.289538  28.710462\n",
            "1             66.010598  33.989402\n"
          ]
        }
      ]
    },
    {
      "cell_type": "code",
      "source": [
        "plt.figure(figsize=(10, 6))\n",
        "sns.barplot(x=df['has_computer'].astype(str), y=df['accepted'])\n",
        "plt.title('Acceptance Rate by Computer Ownership')\n",
        "plt.xlabel('Has Computer (1=Yes, 0=No)')\n",
        "plt.ylabel('Acceptance Rate')\n",
        "plt.show()"
      ],
      "metadata": {
        "colab": {
          "base_uri": "https://localhost:8080/",
          "height": 557
        },
        "id": "nJ1wJo-77cj-",
        "outputId": "a777c634-c4b4-4924-fc07-28bd00448735"
      },
      "execution_count": 37,
      "outputs": [
        {
          "output_type": "display_data",
          "data": {
            "text/plain": [
              "<Figure size 1000x600 with 1 Axes>"
            ],
            "image/png": "[encoded data removed]"
          },
          "metadata": {}
        }
      ]
    },
    {
      "cell_type": "code",
      "source": [
        "# Education category vs acceptance\n",
        "# Calculate acceptance rate by education category\n",
        "education_accept = pd.crosstab(df['education_category'], df['accepted'], normalize='index') * 100\n",
        "print(\"\\nAcceptance Rate by Education Category:\")\n",
        "print(education_accept)\n",
        "\n",
        "plt.figure(figsize=(10, 6))\n",
        "sns.barplot(x=df['education_category'], y=df['accepted'])\n",
        "plt.title('Acceptance Rate by Education Category')\n",
        "plt.xlabel('Education Category')\n",
        "plt.ylabel('Acceptance Rate')\n",
        "plt.xticks(rotation=45, ha='right')\n",
        "plt.tight_layout()\n",
        "plt.show()"
      ],
      "metadata": {
        "colab": {
          "base_uri": "https://localhost:8080/",
          "height": 750
        },
        "id": "xk4inF0y7iiw",
        "outputId": "665807b9-328c-408f-87b2-6aec7d372fdc"
      },
      "execution_count": 38,
      "outputs": [
        {
          "output_type": "stream",
          "name": "stdout",
          "text": [
            "\n",
            "Acceptance Rate by Education Category:\n",
            "accepted                    0          1\n",
            "education_category                      \n",
            "Advanced Degree     64.593301  35.406699\n",
            "Bachelor            62.570888  37.429112\n",
            "High School         73.538462  26.461538\n",
            "Some College        68.759342  31.240658\n"
          ]
        },
        {
          "output_type": "display_data",
          "data": {
            "text/plain": [
              "<Figure size 1000x600 with 1 Axes>"
            ],
            "image/png": "[encoded data removed]"
          },
          "metadata": {}
        }
      ]
    },
    {
      "cell_type": "code",
      "source": [
        "# Employment status vs acceptance\n",
        "# Calculate acceptance rate by employment status\n",
        "employment_accept = pd.crosstab(df['employment_simplified'], df['accepted'], normalize='index') * 100\n",
        "print(\"\\nAcceptance Rate by Employment Status:\")\n",
        "print(employment_accept)\n",
        "\n",
        "plt.figure(figsize=(10, 6))\n",
        "sns.barplot(x=df['employment_simplified'], y=df['accepted'])\n",
        "plt.title('Acceptance Rate by Employment Status')\n",
        "plt.xlabel('Employment Status')\n",
        "plt.ylabel('Acceptance Rate')\n",
        "plt.xticks(rotation=45, ha='right')\n",
        "plt.tight_layout()\n",
        "plt.show()"
      ],
      "metadata": {
        "colab": {
          "base_uri": "https://localhost:8080/",
          "height": 750
        },
        "id": "YxexTMUn7tVJ",
        "outputId": "b9511c54-a286-4579-9267-701d2bc73fef"
      },
      "execution_count": 39,
      "outputs": [
        {
          "output_type": "stream",
          "name": "stdout",
          "text": [
            "\n",
            "Acceptance Rate by Employment Status:\n",
            "accepted                       0          1\n",
            "employment_simplified                      \n",
            "Full-time              62.827225  37.172775\n",
            "Not Employed           72.204473  27.795527\n",
            "Not Specified          67.142857  32.857143\n",
            "Part-time              68.382353  31.617647\n"
          ]
        },
        {
          "output_type": "display_data",
          "data": {
            "text/plain": [
              "<Figure size 1000x600 with 1 Axes>"
            ],
            "image/png": "[encoded data removed]"
          },
          "metadata": {}
        }
      ]
    },
    {
      "cell_type": "markdown",
      "source": [
        "# 5. One-Hot Encoding Categorical Variables"
      ],
      "metadata": {
        "id": "gyIuqGi07xNf"
      }
    },
    {
      "cell_type": "code",
      "source": [
        "# Converting categorical variables into a format usable by ML algorithms\n",
        "print(\"\\n5. One-Hot Encoding Categorical Variables\")\n",
        "print(\"----------------------------------------\")\n"
      ],
      "metadata": {
        "colab": {
          "base_uri": "https://localhost:8080/",
          "height": 0
        },
        "id": "15NxmIDM709Q",
        "outputId": "420af1a7-ccfb-4aa0-f477-6fa050af1adb"
      },
      "execution_count": 40,
      "outputs": [
        {
          "output_type": "stream",
          "name": "stdout",
          "text": [
            "\n",
            "5. One-Hot Encoding Categorical Variables\n",
            "----------------------------------------\n"
          ]
        }
      ]
    },
    {
      "cell_type": "code",
      "source": [
        "# List of categorical columns to encode\n",
        "categorical_columns = [\n",
        "    'computer_availability',\n",
        "    'employment_simplified',\n",
        "    'education_category',\n",
        "    'income_band',\n",
        "    'race_simplified',\n",
        "    'children_category',\n",
        "    'ethnicity_simplified'  # Added ethnicity_simplified to be encoded\n",
        "]"
      ],
      "metadata": {
        "id": "dPZAM-0a75fA"
      },
      "execution_count": 41,
      "outputs": []
    },
    {
      "cell_type": "code",
      "source": [
        "# One-hot encode the categorical variables\n",
        "# This creates binary columns for each category (1 = belongs to category, 0 = doesn't)\n",
        "df_encoded = pd.get_dummies(df, columns=categorical_columns, drop_first=False)"
      ],
      "metadata": {
        "id": "yaJyAL7278Jw"
      },
      "execution_count": 42,
      "outputs": []
    },
    {
      "cell_type": "code",
      "source": [
        "# Display the first few rows of the encoded data\n",
        "print(\"\\nFirst few rows of the encoded dataset:\")\n",
        "df_encoded.head()"
      ],
      "metadata": {
        "colab": {
          "base_uri": "https://localhost:8080/",
          "height": 430
        },
        "id": "SruYAvxf7_Bx",
        "outputId": "1d7bf52e-15f5-4c7e-c873-52b80edd19a5"
      },
      "execution_count": 43,
      "outputs": [
        {
          "output_type": "stream",
          "name": "stdout",
          "text": [
            "\n",
            "First few rows of the encoded dataset:\n"
          ]
        },
        {
          "output_type": "execute_result",
          "data": {
            "text/plain": [
              "   contact_id            cohort    applicant_status  children  \\\n",
              "0           1         Dead Lead  Declined Attending       3.0   \n",
              "1           2         Dead Lead           Dead lead       2.0   \n",
              "2           3         Dead Lead  Declined Attending       3.0   \n",
              "3           4  2020 Fall - Lehi     Assigned Cohort       1.0   \n",
              "4           5         Dead Lead           Dead lead       2.0   \n",
              "\n",
              "                          employment_status   salary_range  \\\n",
              "0                             Not Specified  Not Specified   \n",
              "1              Employed full-time (35 hrs+)      $25K-$35K   \n",
              "2  Employed almost full-time (up to 35 hrs)      $15K-$25K   \n",
              "3              Employed full-time (35 hrs+)      $25K-$35K   \n",
              "4                             Not Specified  Not Specified   \n",
              "\n",
              "  relationship_and_marital_status household_income    education_level  \\\n",
              "0                         Married      $50k - $75k  Bachelor's Degree   \n",
              "1                          Single      $25k - $35k  Bachelor's Degree   \n",
              "2                         Married    $100k - $150k  Bachelor's Degree   \n",
              "3                         Married      $50k - $75k  Associates Degree   \n",
              "4            Domestic Partnership            <$15k  Bachelor's Degree   \n",
              "\n",
              "  lgbtqi_identity  ... ethnicity_simplified_American Indian or Alaska Native  \\\n",
              "0   Not Specified  ...                                              False      \n",
              "1   Not Specified  ...                                              False      \n",
              "2   Not Specified  ...                                              False      \n",
              "3   Not Specified  ...                                              False      \n",
              "4   Not Specified  ...                                              False      \n",
              "\n",
              "  ethnicity_simplified_American Indian or Alaska Native,White  \\\n",
              "0                                              False            \n",
              "1                                              False            \n",
              "2                                              False            \n",
              "3                                              False            \n",
              "4                                              False            \n",
              "\n",
              "  ethnicity_simplified_Asian  ethnicity_simplified_Black or African American  \\\n",
              "0                      False                                           False   \n",
              "1                      False                                           False   \n",
              "2                      False                                           False   \n",
              "3                      False                                           False   \n",
              "4                      False                                           False   \n",
              "\n",
              "   ethnicity_simplified_Hispanic or Latina  \\\n",
              "0                                    False   \n",
              "1                                    False   \n",
              "2                                    False   \n",
              "3                                     True   \n",
              "4                                    False   \n",
              "\n",
              "   ethnicity_simplified_Hispanic or Latina,White  \\\n",
              "0                                          False   \n",
              "1                                          False   \n",
              "2                                          False   \n",
              "3                                          False   \n",
              "4                                          False   \n",
              "\n",
              "   ethnicity_simplified_Native Hawaiian or Other Pacific Islander  \\\n",
              "0                                              False                \n",
              "1                                              False                \n",
              "2                                              False                \n",
              "3                                              False                \n",
              "4                                              False                \n",
              "\n",
              "   ethnicity_simplified_Other  ethnicity_simplified_White  \\\n",
              "0                       False                        True   \n",
              "1                       False                        True   \n",
              "2                       False                        True   \n",
              "3                       False                       False   \n",
              "4                       False                        True   \n",
              "\n",
              "   ethnicity_simplified_Would prefer not to answer  \n",
              "0                                            False  \n",
              "1                                            False  \n",
              "2                                            False  \n",
              "3                                            False  \n",
              "4                                            False  \n",
              "\n",
              "[5 rows x 55 columns]"
            ],
            "text/html": [
              "\n",
              "  <div id=\"df-d44b6664-bd57-4fc3-b469-6b55da8319a8\" class=\"colab-df-container\">\n",
              "    <div>\n",
              "<style scoped>\n",
              "    .dataframe tbody tr th:only-of-type {\n",
              "        vertical-align: middle;\n",
              "    }\n",
              "\n",
              "    .dataframe tbody tr th {\n",
              "        vertical-align: top;\n",
              "    }\n",
              "\n",
              "    .dataframe thead th {\n",
              "        text-align: right;\n",
              "    }\n",
              "</style>\n",
              "<table border=\"1\" class=\"dataframe\">\n",
              "  <thead>\n",
              "    <tr style=\"text-align: right;\">\n",
              "      <th></th>\n",
              "      <th>contact_id</th>\n",
              "      <th>cohort</th>\n",
              "      <th>applicant_status</th>\n",
              "      <th>children</th>\n",
              "      <th>employment_status</th>\n",
              "      <th>salary_range</th>\n",
              "      <th>relationship_and_marital_status</th>\n",
              "      <th>household_income</th>\n",
              "      <th>education_level</th>\n",
              "      <th>lgbtqi_identity</th>\n",
              "      <th>...</th>\n",
              "      <th>ethnicity_simplified_American Indian or Alaska Native</th>\n",
              "      <th>ethnicity_simplified_American Indian or Alaska Native,White</th>\n",
              "      <th>ethnicity_simplified_Asian</th>\n",
              "      <th>ethnicity_simplified_Black or African American</th>\n",
              "      <th>ethnicity_simplified_Hispanic or Latina</th>\n",
              "      <th>ethnicity_simplified_Hispanic or Latina,White</th>\n",
              "      <th>ethnicity_simplified_Native Hawaiian or Other Pacific Islander</th>\n",
              "      <th>ethnicity_simplified_Other</th>\n",
              "      <th>ethnicity_simplified_White</th>\n",
              "      <th>ethnicity_simplified_Would prefer not to answer</th>\n",
              "    </tr>\n",
              "  </thead>\n",
              "  <tbody>\n",
              "    <tr>\n",
              "      <th>0</th>\n",
              "      <td>1</td>\n",
              "      <td>Dead Lead</td>\n",
              "      <td>Declined Attending</td>\n",
              "      <td>3.0</td>\n",
              "      <td>Not Specified</td>\n",
              "      <td>Not Specified</td>\n",
              "      <td>Married</td>\n",
              "      <td>$50k - $75k</td>\n",
              "      <td>Bachelor's Degree</td>\n",
              "      <td>Not Specified</td>\n",
              "      <td>...</td>\n",
              "      <td>False</td>\n",
              "      <td>False</td>\n",
              "      <td>False</td>\n",
              "      <td>False</td>\n",
              "      <td>False</td>\n",
              "      <td>False</td>\n",
              "      <td>False</td>\n",
              "      <td>False</td>\n",
              "      <td>True</td>\n",
              "      <td>False</td>\n",
              "    </tr>\n",
              "    <tr>\n",
              "      <th>1</th>\n",
              "      <td>2</td>\n",
              "      <td>Dead Lead</td>\n",
              "      <td>Dead lead</td>\n",
              "      <td>2.0</td>\n",
              "      <td>Employed full-time (35 hrs+)</td>\n",
              "      <td>$25K-$35K</td>\n",
              "      <td>Single</td>\n",
              "      <td>$25k - $35k</td>\n",
              "      <td>Bachelor's Degree</td>\n",
              "      <td>Not Specified</td>\n",
              "      <td>...</td>\n",
              "      <td>False</td>\n",
              "      <td>False</td>\n",
              "      <td>False</td>\n",
              "      <td>False</td>\n",
              "      <td>False</td>\n",
              "      <td>False</td>\n",
              "      <td>False</td>\n",
              "      <td>False</td>\n",
              "      <td>True</td>\n",
              "      <td>False</td>\n",
              "    </tr>\n",
              "    <tr>\n",
              "      <th>2</th>\n",
              "      <td>3</td>\n",
              "      <td>Dead Lead</td>\n",
              "      <td>Declined Attending</td>\n",
              "      <td>3.0</td>\n",
              "      <td>Employed almost full-time (up to 35 hrs)</td>\n",
              "      <td>$15K-$25K</td>\n",
              "      <td>Married</td>\n",
              "      <td>$100k - $150k</td>\n",
              "      <td>Bachelor's Degree</td>\n",
              "      <td>Not Specified</td>\n",
              "      <td>...</td>\n",
              "      <td>False</td>\n",
              "      <td>False</td>\n",
              "      <td>False</td>\n",
              "      <td>False</td>\n",
              "      <td>False</td>\n",
              "      <td>False</td>\n",
              "      <td>False</td>\n",
              "      <td>False</td>\n",
              "      <td>True</td>\n",
              "      <td>False</td>\n",
              "    </tr>\n",
              "    <tr>\n",
              "      <th>3</th>\n",
              "      <td>4</td>\n",
              "      <td>2020 Fall - Lehi</td>\n",
              "      <td>Assigned Cohort</td>\n",
              "      <td>1.0</td>\n",
              "      <td>Employed full-time (35 hrs+)</td>\n",
              "      <td>$25K-$35K</td>\n",
              "      <td>Married</td>\n",
              "      <td>$50k - $75k</td>\n",
              "      <td>Associates Degree</td>\n",
              "      <td>Not Specified</td>\n",
              "      <td>...</td>\n",
              "      <td>False</td>\n",
              "      <td>False</td>\n",
              "      <td>False</td>\n",
              "      <td>False</td>\n",
              "      <td>True</td>\n",
              "      <td>False</td>\n",
              "      <td>False</td>\n",
              "      <td>False</td>\n",
              "      <td>False</td>\n",
              "      <td>False</td>\n",
              "    </tr>\n",
              "    <tr>\n",
              "      <th>4</th>\n",
              "      <td>5</td>\n",
              "      <td>Dead Lead</td>\n",
              "      <td>Dead lead</td>\n",
              "      <td>2.0</td>\n",
              "      <td>Not Specified</td>\n",
              "      <td>Not Specified</td>\n",
              "      <td>Domestic Partnership</td>\n",
              "      <td>&lt;$15k</td>\n",
              "      <td>Bachelor's Degree</td>\n",
              "      <td>Not Specified</td>\n",
              "      <td>...</td>\n",
              "      <td>False</td>\n",
              "      <td>False</td>\n",
              "      <td>False</td>\n",
              "      <td>False</td>\n",
              "      <td>False</td>\n",
              "      <td>False</td>\n",
              "      <td>False</td>\n",
              "      <td>False</td>\n",
              "      <td>True</td>\n",
              "      <td>False</td>\n",
              "    </tr>\n",
              "  </tbody>\n",
              "</table>\n",
              "<p>5 rows × 55 columns</p>\n",
              "</div>\n",
              "    <div class=\"colab-df-buttons\">\n",
              "\n",
              "  <div class=\"colab-df-container\">\n",
              "    <button class=\"colab-df-convert\" onclick=\"convertToInteractive('df-d44b6664-bd57-4fc3-b469-6b55da8319a8')\"\n",
              "            title=\"Convert this dataframe to an interactive table.\"\n",
              "            style=\"display:none;\">\n",
              "\n",
              "  <svg xmlns=\"http://www.w3.org/2000/svg\" height=\"24px\" viewBox=\"0 -960 960 960\">\n",
              "    <path d=\"M120-120v-720h720v720H120Zm60-500h600v-160H180v160Zm220 220h160v-160H400v160Zm0 220h160v-160H400v160ZM180-400h160v-160H180v160Zm440 0h160v-160H620v160ZM180-180h160v-160H180v160Zm440 0h160v-160H620v160Z\"/>\n",
              "  </svg>\n",
              "    </button>\n",
              "\n",
              "  <style>\n",
              "    .colab-df-container {\n",
              "      display:flex;\n",
              "      gap: 12px;\n",
              "    }\n",
              "\n",
              "    .colab-df-convert {\n",
              "      background-color: #E8F0FE;\n",
              "      border: none;\n",
              "      border-radius: 50%;\n",
              "      cursor: pointer;\n",
              "      display: none;\n",
              "      fill: #1967D2;\n",
              "      height: 32px;\n",
              "      padding: 0 0 0 0;\n",
              "      width: 32px;\n",
              "    }\n",
              "\n",
              "    .colab-df-convert:hover {\n",
              "      background-color: #E2EBFA;\n",
              "      box-shadow: 0px 1px 2px rgba(60, 64, 67, 0.3), 0px 1px 3px 1px rgba(60, 64, 67, 0.15);\n",
              "      fill: #174EA6;\n",
              "    }\n",
              "\n",
              "    .colab-df-buttons div {\n",
              "      margin-bottom: 4px;\n",
              "    }\n",
              "\n",
              "    [theme=dark] .colab-df-convert {\n",
              "      background-color: #3B4455;\n",
              "      fill: #D2E3FC;\n",
              "    }\n",
              "\n",
              "    [theme=dark] .colab-df-convert:hover {\n",
              "      background-color: #434B5C;\n",
              "      box-shadow: 0px 1px 3px 1px rgba(0, 0, 0, 0.15);\n",
              "      filter: drop-shadow(0px 1px 2px rgba(0, 0, 0, 0.3));\n",
              "      fill: #FFFFFF;\n",
              "    }\n",
              "  </style>\n",
              "\n",
              "    <script>\n",
              "      const buttonEl =\n",
              "        document.querySelector('#df-d44b6664-bd57-4fc3-b469-6b55da8319a8 button.colab-df-convert');\n",
              "      buttonEl.style.display =\n",
              "        google.colab.kernel.accessAllowed ? 'block' : 'none';\n",
              "\n",
              "      async function convertToInteractive(key) {\n",
              "        const element = document.querySelector('#df-d44b6664-bd57-4fc3-b469-6b55da8319a8');\n",
              "        const dataTable =\n",
              "          await google.colab.kernel.invokeFunction('convertToInteractive',\n",
              "                                                    [key], {});\n",
              "        if (!dataTable) return;\n",
              "\n",
              "        const docLinkHtml = 'Like what you see? Visit the ' +\n",
              "          '<a target=\"_blank\" href=https://colab.research.google.com/notebooks/data_table.ipynb>data table notebook</a>'\n",
              "          + ' to learn more about interactive tables.';\n",
              "        element.innerHTML = '';\n",
              "        dataTable['output_type'] = 'display_data';\n",
              "        await google.colab.output.renderOutput(dataTable, element);\n",
              "        const docLink = document.createElement('div');\n",
              "        docLink.innerHTML = docLinkHtml;\n",
              "        element.appendChild(docLink);\n",
              "      }\n",
              "    </script>\n",
              "  </div>\n",
              "\n",
              "\n",
              "    <div id=\"df-8da0bab0-15a7-4959-a6a5-26ebb156302b\">\n",
              "      <button class=\"colab-df-quickchart\" onclick=\"quickchart('df-8da0bab0-15a7-4959-a6a5-26ebb156302b')\"\n",
              "                title=\"Suggest charts\"\n",
              "                style=\"display:none;\">\n",
              "\n",
              "<svg xmlns=\"http://www.w3.org/2000/svg\" height=\"24px\"viewBox=\"0 0 24 24\"\n",
              "     width=\"24px\">\n",
              "    <g>\n",
              "        <path d=\"M19 3H5c-1.1 0-2 .9-2 2v14c0 1.1.9 2 2 2h14c1.1 0 2-.9 2-2V5c0-1.1-.9-2-2-2zM9 17H7v-7h2v7zm4 0h-2V7h2v10zm4 0h-2v-4h2v4z\"/>\n",
              "    </g>\n",
              "</svg>\n",
              "      </button>\n",
              "\n",
              "<style>\n",
              "  .colab-df-quickchart {\n",
              "      --bg-color: #E8F0FE;\n",
              "      --fill-color: #1967D2;\n",
              "      --hover-bg-color: #E2EBFA;\n",
              "      --hover-fill-color: #174EA6;\n",
              "      --disabled-fill-color: #AAA;\n",
              "      --disabled-bg-color: #DDD;\n",
              "  }\n",
              "\n",
              "  [theme=dark] .colab-df-quickchart {\n",
              "      --bg-color: #3B4455;\n",
              "      --fill-color: #D2E3FC;\n",
              "      --hover-bg-color: #434B5C;\n",
              "      --hover-fill-color: #FFFFFF;\n",
              "      --disabled-bg-color: #3B4455;\n",
              "      --disabled-fill-color: #666;\n",
              "  }\n",
              "\n",
              "  .colab-df-quickchart {\n",
              "    background-color: var(--bg-color);\n",
              "    border: none;\n",
              "    border-radius: 50%;\n",
              "    cursor: pointer;\n",
              "    display: none;\n",
              "    fill: var(--fill-color);\n",
              "    height: 32px;\n",
              "    padding: 0;\n",
              "    width: 32px;\n",
              "  }\n",
              "\n",
              "  .colab-df-quickchart:hover {\n",
              "    background-color: var(--hover-bg-color);\n",
              "    box-shadow: 0 1px 2px rgba(60, 64, 67, 0.3), 0 1px 3px 1px rgba(60, 64, 67, 0.15);\n",
              "    fill: var(--button-hover-fill-color);\n",
              "  }\n",
              "\n",
              "  .colab-df-quickchart-complete:disabled,\n",
              "  .colab-df-quickchart-complete:disabled:hover {\n",
              "    background-color: var(--disabled-bg-color);\n",
              "    fill: var(--disabled-fill-color);\n",
              "    box-shadow: none;\n",
              "  }\n",
              "\n",
              "  .colab-df-spinner {\n",
              "    border: 2px solid var(--fill-color);\n",
              "    border-color: transparent;\n",
              "    border-bottom-color: var(--fill-color);\n",
              "    animation:\n",
              "      spin 1s steps(1) infinite;\n",
              "  }\n",
              "\n",
              "  @keyframes spin {\n",
              "    0% {\n",
              "      border-color: transparent;\n",
              "      border-bottom-color: var(--fill-color);\n",
              "      border-left-color: var(--fill-color);\n",
              "    }\n",
              "    20% {\n",
              "      border-color: transparent;\n",
              "      border-left-color: var(--fill-color);\n",
              "      border-top-color: var(--fill-color);\n",
              "    }\n",
              "    30% {\n",
              "      border-color: transparent;\n",
              "      border-left-color: var(--fill-color);\n",
              "      border-top-color: var(--fill-color);\n",
              "      border-right-color: var(--fill-color);\n",
              "    }\n",
              "    40% {\n",
              "      border-color: transparent;\n",
              "      border-right-color: var(--fill-color);\n",
              "      border-top-color: var(--fill-color);\n",
              "    }\n",
              "    60% {\n",
              "      border-color: transparent;\n",
              "      border-right-color: var(--fill-color);\n",
              "    }\n",
              "    80% {\n",
              "      border-color: transparent;\n",
              "      border-right-color: var(--fill-color);\n",
              "      border-bottom-color: var(--fill-color);\n",
              "    }\n",
              "    90% {\n",
              "      border-color: transparent;\n",
              "      border-bottom-color: var(--fill-color);\n",
              "    }\n",
              "  }\n",
              "</style>\n",
              "\n",
              "      <script>\n",
              "        async function quickchart(key) {\n",
              "          const quickchartButtonEl =\n",
              "            document.querySelector('#' + key + ' button');\n",
              "          quickchartButtonEl.disabled = true;  // To prevent multiple clicks.\n",
              "          quickchartButtonEl.classList.add('colab-df-spinner');\n",
              "          try {\n",
              "            const charts = await google.colab.kernel.invokeFunction(\n",
              "                'suggestCharts', [key], {});\n",
              "          } catch (error) {\n",
              "            console.error('Error during call to suggestCharts:', error);\n",
              "          }\n",
              "          quickchartButtonEl.classList.remove('colab-df-spinner');\n",
              "          quickchartButtonEl.classList.add('colab-df-quickchart-complete');\n",
              "        }\n",
              "        (() => {\n",
              "          let quickchartButtonEl =\n",
              "            document.querySelector('#df-8da0bab0-15a7-4959-a6a5-26ebb156302b button');\n",
              "          quickchartButtonEl.style.display =\n",
              "            google.colab.kernel.accessAllowed ? 'block' : 'none';\n",
              "        })();\n",
              "      </script>\n",
              "    </div>\n",
              "\n",
              "    </div>\n",
              "  </div>\n"
            ],
            "application/vnd.google.colaboratory.intrinsic+json": {
              "type": "dataframe",
              "variable_name": "df_encoded"
            }
          },
          "metadata": {},
          "execution_count": 43
        }
      ]
    },
    {
      "cell_type": "code",
      "source": [
        "# Display the shape of the encoded dataset\n",
        "print(f\"\\nShape of the encoded dataset: {df_encoded.shape}\")"
      ],
      "metadata": {
        "colab": {
          "base_uri": "https://localhost:8080/",
          "height": 0
        },
        "id": "ZR4651Dm8ERB",
        "outputId": "5bba66fb-0e10-481a-b324-62cc155778a0"
      },
      "execution_count": 44,
      "outputs": [
        {
          "output_type": "stream",
          "name": "stdout",
          "text": [
            "\n",
            "Shape of the encoded dataset: (1732, 55)\n"
          ]
        }
      ]
    },
    {
      "cell_type": "markdown",
      "source": [
        "# 6. Prepare Final Dataset for Modeling"
      ],
      "metadata": {
        "id": "BZPWAC-C8GX5"
      }
    },
    {
      "cell_type": "code",
      "source": [
        "# Creating feature matrix X and target variable y\n",
        "print(\"\\n6. Prepare Final Dataset for Modeling\")\n",
        "print(\"-----------------------------------\")"
      ],
      "metadata": {
        "colab": {
          "base_uri": "https://localhost:8080/",
          "height": 0
        },
        "id": "dFA9jF3i8I26",
        "outputId": "283383e3-122b-42a9-f8ad-35b874d7d549"
      },
      "execution_count": 45,
      "outputs": [
        {
          "output_type": "stream",
          "name": "stdout",
          "text": [
            "\n",
            "6. Prepare Final Dataset for Modeling\n",
            "-----------------------------------\n"
          ]
        }
      ]
    },
    {
      "cell_type": "code",
      "source": [
        "# Select relevant columns for modeling\n",
        "# Exclude ID, dates, and raw columns that have been transformed\n",
        "exclude_columns = ['contact_id', 'cohort', 'applicant_status',\n",
        "                   'create_date', 'year', 'month', 'day', 'weekday',\n",
        "                   'children', 'computer_availability', 'employment_status',\n",
        "                   'salary_range', 'relationship_and_marital_status',\n",
        "                   'household_income', 'education_level', 'lgbtqi_identity',\n",
        "                   'veteran_status', 'race_ethnicity']"
      ],
      "metadata": {
        "id": "OH9sY1IU8N1b"
      },
      "execution_count": 46,
      "outputs": []
    },
    {
      "cell_type": "code",
      "source": [
        "# Create the final dataset for modeling\n",
        "# X contains all features, y contains target variable\n",
        "modeling_columns = [col for col in df_encoded.columns if col not in exclude_columns and col != 'accepted']\n",
        "X = df_encoded[modeling_columns]  # Feature matrix\n",
        "y = df_encoded['accepted']        # Target variable"
      ],
      "metadata": {
        "id": "RFUb0XpQ8ebV"
      },
      "execution_count": 47,
      "outputs": []
    },
    {
      "cell_type": "code",
      "source": [
        "print(f\"\\nFeatures for modeling: {len(modeling_columns)}\")\n",
        "print(f\"Target variable: 'accepted' (1 = Assigned to Cohort, 0 = Not Assigned)\")\n",
        "print(f\"Number of observations: {len(X)}\")"
      ],
      "metadata": {
        "colab": {
          "base_uri": "https://localhost:8080/",
          "height": 0
        },
        "id": "bRjWrst08gn0",
        "outputId": "ea67be40-7f7b-47bb-cbf9-51a7e84e3ff0"
      },
      "execution_count": 48,
      "outputs": [
        {
          "output_type": "stream",
          "name": "stdout",
          "text": [
            "\n",
            "Features for modeling: 37\n",
            "Target variable: 'accepted' (1 = Assigned to Cohort, 0 = Not Assigned)\n",
            "Number of observations: 1732\n"
          ]
        }
      ]
    },
    {
      "cell_type": "code",
      "source": [
        "# Save the preprocessed data for future use\n",
        "df_encoded.to_csv('tech_moms_preprocessed.csv', index=False)\n",
        "print(\"\\nSaved preprocessed data to 'tech_moms_preprocessed.csv'\")"
      ],
      "metadata": {
        "colab": {
          "base_uri": "https://localhost:8080/",
          "height": 0
        },
        "id": "LFkA6yGj8ixU",
        "outputId": "30b2b032-a2c4-481d-8955-662862e70be5"
      },
      "execution_count": 49,
      "outputs": [
        {
          "output_type": "stream",
          "name": "stdout",
          "text": [
            "\n",
            "Saved preprocessed data to 'tech_moms_preprocessed.csv'\n"
          ]
        }
      ]
    },
    {
      "cell_type": "markdown",
      "source": [
        "# 7. Feature Importance Analysis"
      ],
      "metadata": {
        "id": "7RZkJicS8nUv"
      }
    },
    {
      "cell_type": "code",
      "source": [
        "# Identifying which features are most strongly related to acceptance\n",
        "print(\"\\n7. Feature Importance Analysis\")\n",
        "print(\"----------------------------\")"
      ],
      "metadata": {
        "colab": {
          "base_uri": "https://localhost:8080/",
          "height": 0
        },
        "id": "CAJtUtiH8p7d",
        "outputId": "6c13b437-6cb0-4bac-96e5-aad59d810bf8"
      },
      "execution_count": 50,
      "outputs": [
        {
          "output_type": "stream",
          "name": "stdout",
          "text": [
            "\n",
            "7. Feature Importance Analysis\n",
            "----------------------------\n"
          ]
        }
      ]
    },
    {
      "cell_type": "code",
      "source": [
        "# Calculate correlations with the target variable\n",
        "# This shows which features have the strongest linear relationship with acceptance\n",
        "correlations = df_encoded[modeling_columns + ['accepted']].corr()['accepted'].sort_values(ascending=False)"
      ],
      "metadata": {
        "id": "KtkO5CeW8vL-"
      },
      "execution_count": 52,
      "outputs": []
    },
    {
      "cell_type": "code",
      "source": [
        "print(\"\\nTop 10 features positively correlated with acceptance:\")\n",
        "print(correlations.head(11))  # Include top 11 to show more than just the target itself"
      ],
      "metadata": {
        "colab": {
          "base_uri": "https://localhost:8080/",
          "height": 0
        },
        "id": "FY1KtjYZ_8P8",
        "outputId": "c2a4bef9-e7e0-4cb7-ebdb-0d071f5dc163"
      },
      "execution_count": 53,
      "outputs": [
        {
          "output_type": "stream",
          "name": "stdout",
          "text": [
            "\n",
            "Top 10 features positively correlated with acceptance:\n",
            "accepted                                   1.000000\n",
            "employment_simplified_Full-time            0.083985\n",
            "race_simplified_White only                 0.077847\n",
            "ethnicity_simplified_White                 0.075317\n",
            "education_category_Bachelor                0.066311\n",
            "has_computer                               0.047859\n",
            "ethnicity_simplified_Hispanic or Latina    0.039325\n",
            "race_simplified_Hispanic/Latino            0.038473\n",
            "computer_availability_Laptop (Mac)         0.022537\n",
            "education_category_Advanced Degree         0.021078\n",
            "computer_availability_Laptop (PC)          0.020530\n",
            "Name: accepted, dtype: float64\n"
          ]
        }
      ]
    },
    {
      "cell_type": "code",
      "source": [
        "print(\"\\nTop 10 features negatively correlated with acceptance:\")\n",
        "print(correlations.tail(10))"
      ],
      "metadata": {
        "colab": {
          "base_uri": "https://localhost:8080/",
          "height": 0
        },
        "id": "dyGbkfkb__T-",
        "outputId": "bdf49ee1-fb26-49f7-c8d8-ec02f3b2a8df"
      },
      "execution_count": 54,
      "outputs": [
        {
          "output_type": "stream",
          "name": "stdout",
          "text": [
            "\n",
            "Top 10 features negatively correlated with acceptance:\n",
            "race_simplified_Black/African American                           -0.037429\n",
            "ethnicity_simplified_Other                                       -0.043857\n",
            "ethnicity_simplified_Would prefer not to answer                  -0.051006\n",
            "ethnicity_simplified_Native Hawaiian or Other Pacific Islander   -0.056124\n",
            "computer_availability_Not Specified                              -0.060062\n",
            "education_category_High School                                   -0.064271\n",
            "employment_simplified_Not Employed                               -0.079220\n",
            "ethnicity_simplified_\"Some other race, ethnicity, or origin\"     -0.084662\n",
            "race_simplified_Multiracial/Other                                -0.121035\n",
            "income_band_Other                                                      NaN\n",
            "Name: accepted, dtype: float64\n"
          ]
        }
      ]
    },
    {
      "cell_type": "code",
      "source": [
        "# Visualize top correlations\n",
        "plt.figure(figsize=(12, 10))\n",
        "top_correlations = pd.concat([correlations.head(10), correlations.tail(10)])  # Combine top positive and negative\n",
        "sns.barplot(x=top_correlations, y=top_correlations.index)\n",
        "plt.title('Top Features Correlated with Acceptance')\n",
        "plt.xlabel('Correlation Coefficient')\n",
        "plt.tight_layout()\n",
        "plt.show()"
      ],
      "metadata": {
        "colab": {
          "base_uri": "https://localhost:8080/",
          "height": 1006
        },
        "id": "bjotIBD-AF6s",
        "outputId": "ad7af8d9-45ec-4418-e609-4009efceea78"
      },
      "execution_count": 55,
      "outputs": [
        {
          "output_type": "display_data",
          "data": {
            "text/plain": [
              "<Figure size 1200x1000 with 1 Axes>"
            ],
            "image/png": "[encoded data removed]"
          },
          "metadata": {}
        }
      ]
    },
    {
      "cell_type": "markdown",
      "source": [
        "Preprocessing and Feature Engineering Complete!\n",
        "The data is now ready for modeling in the next notebook.\n",
        "Key accomplishments:\n",
        "1. Cleaned missing values using appropriate strategies for each column\n",
        "2. Created meaningful feature categories from raw data\n",
        "3. Generated binary indicators for important factors\n",
        "4. Encoded categorical variables for machine learning compatibility\n",
        "5. Identified features with strongest correlation to program acceptance"
      ],
      "metadata": {
        "id": "O7j-QN0qN8tP"
      }
    }
  ]
}